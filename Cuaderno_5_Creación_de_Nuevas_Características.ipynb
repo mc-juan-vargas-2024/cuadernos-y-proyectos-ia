{
  "nbformat": 4,
  "nbformat_minor": 0,
  "metadata": {
    "colab": {
      "provenance": [],
      "include_colab_link": true
    },
    "kernelspec": {
      "name": "python3",
      "display_name": "Python 3"
    },
    "language_info": {
      "name": "python"
    }
  },
  "cells": [
    {
      "cell_type": "markdown",
      "metadata": {
        "id": "view-in-github",
        "colab_type": "text"
      },
      "source": [
        "<a href=\"https://colab.research.google.com/github/mc-juan-vargas-2024/cuadernos-y-proyectos-ia/blob/main/Cuaderno_5_Creaci%C3%B3n_de_Nuevas_Caracter%C3%ADsticas.ipynb\" target=\"_parent\"><img src=\"https://colab.research.google.com/assets/colab-badge.svg\" alt=\"Open In Colab\"/></a>"
      ]
    },
    {
      "cell_type": "markdown",
      "source": [
        "# <font color=\"red\">Cuaderno 5: Creación de Nuevas Características\n",
        "La creación de nuevas características (feature engineering) es un paso crucial en el preprocesamiento de datos, ya que puede mejorar la capacidad predictiva de los modelos al transformar y combinar los datos originales. En este Sesion, exploraremos estrategias para crear características basadas en datos existentes y ejemplos prácticos para cada caso.\n",
        "\n",
        "\n",
        "---\n",
        "\n",
        "## <font color=\"red\">5.1 Combinación y Transformación de Características Existentes\n",
        "La combinación de características implica usar variables existentes para generar nuevas que reflejen relaciones entre ellas.\n",
        "### Ejemplo: Crear una relación entre dos columnas\n"
      ],
      "metadata": {
        "id": "W7OTDAf8Ew-j"
      }
    },
    {
      "cell_type": "code",
      "execution_count": 2,
      "metadata": {
        "colab": {
          "base_uri": "https://localhost:8080/"
        },
        "collapsed": true,
        "id": "yg8nPjpUEqFc",
        "outputId": "21d6b576-a4a7-447c-a598-4a4a630d84b8"
      },
      "outputs": [
        {
          "output_type": "stream",
          "name": "stdout",
          "text": [
            "Datos con nueva característica:\n",
            "    Precio  Cantidad  Total\n",
            "0     100         2    200\n",
            "1     200         5   1000\n",
            "2     150         3    450\n",
            "3     300         8   2400\n"
          ]
        }
      ],
      "source": [
        "import pandas as pd\n",
        "\n",
        "# Dataset de ejemplo\n",
        "data = pd.DataFrame({\n",
        "    \"Precio\": [100, 200, 150, 300],\n",
        "    \"Cantidad\": [2, 5, 3, 8]\n",
        "})\n",
        "\n",
        "# Crear una nueva característica: Total\n",
        "data[\"Total\"] = data[\"Precio\"] * data[\"Cantidad\"]\n",
        "print(\"Datos con nueva característica:\\n\", data)\n"
      ]
    },
    {
      "cell_type": "markdown",
      "source": [
        "## <font color=\"red\">5.2 Generación de Características Temporales\n",
        "Los datos con marcas de tiempo pueden enriquecerse extrayendo información útil como año, mes, día, hora o día de la semana.\n",
        "### Ejemplo: Procesamiento de características temporales\n"
      ],
      "metadata": {
        "id": "JUoq62HPFLzC"
      }
    },
    {
      "cell_type": "code",
      "source": [
        "# Agregar fechas al dataset\n",
        "data[\"Fecha\"] = pd.to_datetime([\"2023-01-01\", \"2023-01-15\", \"2023-02-10\", \"2023-03-01\"])\n",
        "\n",
        "# Extraer características temporales\n",
        "data[\"Año\"] = data[\"Fecha\"].dt.year\n",
        "data[\"Mes\"] = data[\"Fecha\"].dt.month\n",
        "data[\"Día\"] = data[\"Fecha\"].dt.day\n",
        "data[\"Día_Semana\"] = data[\"Fecha\"].dt.day_name()\n",
        "print(\"Datos con características temporales:\\n\", data)\n"
      ],
      "metadata": {
        "collapsed": true,
        "colab": {
          "base_uri": "https://localhost:8080/"
        },
        "id": "XIZnBPFdFS7q",
        "outputId": "8f3c2962-08d0-4cfa-957e-64e86026de41"
      },
      "execution_count": 3,
      "outputs": [
        {
          "output_type": "stream",
          "name": "stdout",
          "text": [
            "Datos con características temporales:\n",
            "    Precio  Cantidad  Total      Fecha   Año  Mes  Día Día_Semana\n",
            "0     100         2    200 2023-01-01  2023    1    1     Sunday\n",
            "1     200         5   1000 2023-01-15  2023    1   15     Sunday\n",
            "2     150         3    450 2023-02-10  2023    2   10     Friday\n",
            "3     300         8   2400 2023-03-01  2023    3    1  Wednesday\n"
          ]
        }
      ]
    },
    {
      "cell_type": "markdown",
      "source": [
        "## <font color=\"red\">5.3 Extracción de Características a partir de Texto\n",
        "El procesamiento de texto permite transformar datos no estructurados en representaciones numéricas útiles.\n",
        "### <font color=\"blue\">5.3.1 Tokenización y Conteo de Palabras\n",
        "La tokenización divide el texto en palabras o frases, y el conteo de palabras mide la frecuencia de términos en un texto.\n"
      ],
      "metadata": {
        "id": "jYALC3kiFW_Y"
      }
    },
    {
      "cell_type": "code",
      "source": [
        "from sklearn.feature_extraction.text import CountVectorizer\n",
        "\n",
        "# Datos de texto\n",
        "data_texto = pd.DataFrame({\n",
        "    \"Texto\": [\"Hola mundo\", \"Machine learning es increíble\", \"Python es popular\"]\n",
        "})\n",
        "\n",
        "# Vectorizador de palabras\n",
        "vectorizer = CountVectorizer()\n",
        "matriz_frecuencia = vectorizer.fit_transform(data_texto[\"Texto\"])\n",
        "\n",
        "# Mostrar el vocabulario y la matriz\n",
        "print(\"\\nVocabulario:\", vectorizer.get_feature_names_out())\n",
        "print(\"Matriz de frecuencia:\\n\", matriz_frecuencia.toarray())\n"
      ],
      "metadata": {
        "collapsed": true,
        "colab": {
          "base_uri": "https://localhost:8080/"
        },
        "id": "fZgwwch6FpFR",
        "outputId": "813ea364-bcd8-4ebf-d25e-f2510061bf07"
      },
      "execution_count": 4,
      "outputs": [
        {
          "output_type": "stream",
          "name": "stdout",
          "text": [
            "\n",
            "Vocabulario: ['es' 'hola' 'increíble' 'learning' 'machine' 'mundo' 'popular' 'python']\n",
            "Matriz de frecuencia:\n",
            " [[0 1 0 0 0 1 0 0]\n",
            " [1 0 1 1 1 0 0 0]\n",
            " [1 0 0 0 0 0 1 1]]\n"
          ]
        }
      ]
    },
    {
      "cell_type": "code",
      "source": [],
      "metadata": {
        "id": "ugH21gHHkkxs"
      },
      "execution_count": null,
      "outputs": []
    },
    {
      "cell_type": "markdown",
      "source": [
        "## <font color=\"red\">5.4 Extracción de Características Geoespaciales\n",
        "Los datos geoespaciales pueden enriquecerse mediante cálculos como distancias, regiones o agrupaciones espaciales.\n",
        "### Ejemplo: Distancia entre coordenadas\n",
        "Utilizamos la fórmula de Haversine para calcular la distancia entre dos puntos geográficos.\n"
      ],
      "metadata": {
        "id": "VBHqug5IF0wJ"
      }
    },
    {
      "cell_type": "code",
      "source": [
        "from geopy.distance import geodesic\n",
        "\n",
        "\n",
        "# Coordenadas de dos ubicaciones\n",
        "data_geo = pd.DataFrame({\n",
        "    \"Latitud\": [19.4326, 40.7128],  # Ciudad de México, Nueva York\n",
        "    \"Longitud\": [-99.1332, -74.0060]\n",
        "})\n",
        "\n",
        "\n",
        "# Calcular distancias desde un punto de referencia\n",
        "referencia = (19.4326, -99.1332)  # Ciudad de México\n",
        "data_geo[\"Distancia_km\"] = data_geo.apply(\n",
        "    lambda row: geodesic(referencia, (row[\"Latitud\"], row[\"Longitud\"])).kilometers, axis=1\n",
        ")\n",
        "print(\"\\nDatos con distancia geoespacial:\\n\", data_geo)"
      ],
      "metadata": {
        "colab": {
          "base_uri": "https://localhost:8080/"
        },
        "collapsed": true,
        "id": "KVB7g4_wF9Dy",
        "outputId": "91af08a7-1499-46ea-ea79-c69a4bdcf64d"
      },
      "execution_count": 6,
      "outputs": [
        {
          "output_type": "stream",
          "name": "stdout",
          "text": [
            "\n",
            "Datos con distancia geoespacial:\n",
            "    Latitud  Longitud  Distancia_km\n",
            "0  19.4326  -99.1332        0.0000\n",
            "1  40.7128  -74.0060     3357.6952\n"
          ]
        }
      ]
    },
    {
      "cell_type": "code",
      "source": [
        "# prompt: crear un dataframe con edad latitud nombre en torno a bucaramanga\n",
        "\n",
        "import pandas as pd\n",
        "import numpy as np\n",
        "\n",
        "# Define the number of rows for the DataFrame\n",
        "num_rows = 100\n",
        "\n",
        "# Create random data for age, latitude, and longitude around Bucaramanga\n",
        "# Bucaramanga's approximate coordinates: 7.125° N, 73.116° W\n",
        "bucaramanga_lat = 7.125\n",
        "bucaramanga_lon = -73.116\n",
        "\n",
        "# Generate random variations around Bucaramanga's coordinates\n",
        "latitudes = np.random.normal(loc=bucaramanga_lat, scale=0.2, size=num_rows)  # +/- 0.2 degrees latitude\n",
        "longitudes = np.random.normal(loc=bucaramanga_lon, scale=0.2, size=num_rows)  # +/- 0.2 degrees longitude\n",
        "ages = np.random.randint(18, 80, size=num_rows)  # Ages between 18 and 79\n",
        "names = [f\"Person {i}\" for i in range(1, num_rows+1)]  # Generate names\n",
        "\n",
        "# Create the DataFrame\n",
        "data = {\n",
        "    'Nombre': names,\n",
        "    'Edad': ages,\n",
        "    'Latitud': latitudes,\n",
        "    'Longitud': longitudes\n",
        "}\n",
        "df = pd.DataFrame(data)\n",
        "\n",
        "print(df.head())\n"
      ],
      "metadata": {
        "id": "LaikQcTmpC8x",
        "outputId": "f55704a2-29aa-47a0-855d-6c6d30ea89a7",
        "colab": {
          "base_uri": "https://localhost:8080/"
        }
      },
      "execution_count": 7,
      "outputs": [
        {
          "output_type": "stream",
          "name": "stdout",
          "text": [
            "     Nombre  Edad   Latitud   Longitud\n",
            "0  Person 1    62  7.201811 -73.072574\n",
            "1  Person 2    77  7.184108 -73.451488\n",
            "2  Person 3    29  6.827335 -72.997738\n",
            "3  Person 4    35  7.676976 -73.229693\n",
            "4  Person 5    45  7.234170 -72.983372\n"
          ]
        }
      ]
    },
    {
      "cell_type": "code",
      "source": [
        "# prompt: crea un grafica de mapa con scatter_mapbox\n",
        "\n",
        "import plotly.express as px\n",
        "\n",
        "fig = px.scatter_mapbox(df, lat=\"Latitud\", lon=\"Longitud\", hover_name=\"Nombre\", hover_data=[\"Edad\"],\n",
        "                        color_discrete_sequence=[\"fuchsia\"], zoom=10, height=600)\n",
        "fig.update_layout(mapbox_style=\"open-street-map\")\n",
        "fig.update_layout(margin={\"r\":0,\"t\":0,\"l\":0,\"b\":0})\n",
        "fig.show()\n"
      ],
      "metadata": {
        "id": "DxRaN2ZepT4I",
        "outputId": "08062114-f4eb-43ae-c290-37880efaf49a",
        "colab": {
          "base_uri": "https://localhost:8080/",
          "height": 617
        }
      },
      "execution_count": 8,
      "outputs": [
        {
          "output_type": "display_data",
          "data": {
            "text/html": [
              "<html>\n",
              "<head><meta charset=\"utf-8\" /></head>\n",
              "<body>\n",
              "    <div>            <script src=\"https://cdnjs.cloudflare.com/ajax/libs/mathjax/2.7.5/MathJax.js?config=TeX-AMS-MML_SVG\"></script><script type=\"text/javascript\">if (window.MathJax && window.MathJax.Hub && window.MathJax.Hub.Config) {window.MathJax.Hub.Config({SVG: {font: \"STIX-Web\"}});}</script>                <script type=\"text/javascript\">window.PlotlyConfig = {MathJaxConfig: 'local'};</script>\n",
              "        <script charset=\"utf-8\" src=\"https://cdn.plot.ly/plotly-2.35.2.min.js\"></script>                <div id=\"d2f98d18-e96f-4637-8b40-a2920ae4806f\" class=\"plotly-graph-div\" style=\"height:600px; width:100%;\"></div>            <script type=\"text/javascript\">                                    window.PLOTLYENV=window.PLOTLYENV || {};                                    if (document.getElementById(\"d2f98d18-e96f-4637-8b40-a2920ae4806f\")) {                    Plotly.newPlot(                        \"d2f98d18-e96f-4637-8b40-a2920ae4806f\",                        [{\"customdata\":[[62],[77],[29],[35],[45],[38],[53],[76],[56],[22],[57],[79],[34],[20],[48],[54],[59],[40],[26],[61],[73],[48],[67],[67],[50],[76],[51],[23],[68],[46],[61],[28],[72],[25],[36],[31],[52],[33],[48],[79],[50],[56],[60],[55],[41],[68],[40],[29],[60],[37],[54],[79],[39],[26],[34],[73],[42],[22],[66],[71],[78],[46],[44],[75],[22],[73],[71],[27],[25],[20],[44],[67],[44],[33],[65],[78],[43],[78],[29],[18],[76],[24],[32],[34],[19],[56],[28],[66],[30],[57],[76],[74],[57],[76],[31],[24],[26],[19],[35],[49]],\"hovertemplate\":\"\\u003cb\\u003e%{hovertext}\\u003c\\u002fb\\u003e\\u003cbr\\u003e\\u003cbr\\u003eLatitud=%{lat}\\u003cbr\\u003eLongitud=%{lon}\\u003cbr\\u003eEdad=%{customdata[0]}\\u003cextra\\u003e\\u003c\\u002fextra\\u003e\",\"hovertext\":[\"Person 1\",\"Person 2\",\"Person 3\",\"Person 4\",\"Person 5\",\"Person 6\",\"Person 7\",\"Person 8\",\"Person 9\",\"Person 10\",\"Person 11\",\"Person 12\",\"Person 13\",\"Person 14\",\"Person 15\",\"Person 16\",\"Person 17\",\"Person 18\",\"Person 19\",\"Person 20\",\"Person 21\",\"Person 22\",\"Person 23\",\"Person 24\",\"Person 25\",\"Person 26\",\"Person 27\",\"Person 28\",\"Person 29\",\"Person 30\",\"Person 31\",\"Person 32\",\"Person 33\",\"Person 34\",\"Person 35\",\"Person 36\",\"Person 37\",\"Person 38\",\"Person 39\",\"Person 40\",\"Person 41\",\"Person 42\",\"Person 43\",\"Person 44\",\"Person 45\",\"Person 46\",\"Person 47\",\"Person 48\",\"Person 49\",\"Person 50\",\"Person 51\",\"Person 52\",\"Person 53\",\"Person 54\",\"Person 55\",\"Person 56\",\"Person 57\",\"Person 58\",\"Person 59\",\"Person 60\",\"Person 61\",\"Person 62\",\"Person 63\",\"Person 64\",\"Person 65\",\"Person 66\",\"Person 67\",\"Person 68\",\"Person 69\",\"Person 70\",\"Person 71\",\"Person 72\",\"Person 73\",\"Person 74\",\"Person 75\",\"Person 76\",\"Person 77\",\"Person 78\",\"Person 79\",\"Person 80\",\"Person 81\",\"Person 82\",\"Person 83\",\"Person 84\",\"Person 85\",\"Person 86\",\"Person 87\",\"Person 88\",\"Person 89\",\"Person 90\",\"Person 91\",\"Person 92\",\"Person 93\",\"Person 94\",\"Person 95\",\"Person 96\",\"Person 97\",\"Person 98\",\"Person 99\",\"Person 100\"],\"lat\":[7.201811320122613,7.184107679276746,6.82733514312108,7.676976045876876,7.234169522480124,7.090005818897981,7.063670870230055,7.453581488762134,7.193770941294621,7.064212560393753,7.025148471129581,6.8710318858741966,7.012044005878154,7.616242173535032,6.434430333075913,6.91089677041366,7.266081654284835,7.242412761056322,6.710513659966744,7.044028674470106,7.098452567935196,7.231944505549265,7.130321244405944,7.207315813216753,7.009030343466349,7.595274388288918,6.93967188731779,7.22231720823977,7.063754679965626,6.90756308170086,6.899649824166186,7.097560405524018,6.9647066815718786,7.40426318828834,7.030026217338346,7.207976564745949,7.3209934906912215,7.01682037310288,7.184348782818563,7.220553355183016,7.323852745740291,7.239640957883237,7.027818663401131,7.0931044889282795,7.30575455046668,6.954476886773481,7.451452400081909,6.991278036599059,7.330344810162918,6.746045632287703,7.497245766010698,7.449179122083489,7.393526645121235,7.254061416755253,7.3091351858279205,6.955456999380817,7.025095832991875,7.107096882585826,7.514446026793477,7.0879999260552795,7.265693729553973,7.039952535705131,7.068791747737953,7.1931820167571905,7.476637641451026,6.879196586021607,7.195699045364699,7.684029711660378,7.085323737388478,7.274285523152672,6.913542913481318,7.168511622929821,7.070010340300078,7.096873615446241,6.965206028780791,7.239858546105287,7.257660660853032,7.236117454824007,7.32364186608906,7.330873934118141,7.614400080613994,7.180502030441654,7.152759497242751,7.154158086887227,6.969006691827558,6.896657436906546,6.837754405932947,7.1494358348590445,7.256678916939039,7.119151550697009,7.301243167984255,6.966888521641544,7.025754043435931,7.387678418301013,7.094088797255944,7.252300009514467,7.285655886017592,7.325850542500815,7.193507032220994,6.968569460873451],\"legendgroup\":\"\",\"lon\":[-73.07257416441072,-73.45148825958712,-72.99773771940563,-73.2296934858239,-72.98337223160237,-73.12061666464402,-73.05809974795679,-73.09740282913907,-73.33838689741312,-73.15551294723953,-72.86537986393644,-73.07140739503014,-73.5180469392565,-73.39499258273236,-72.9927983328874,-73.30149921796045,-73.22272773354483,-73.04558977107862,-73.10479093661277,-72.97248078842918,-72.6914716917447,-72.90661131860375,-73.16908588839861,-73.22893258751411,-73.31005835185414,-73.05649159971522,-73.18137907731838,-73.33558219710575,-72.97020322975713,-72.99085560093724,-72.98130652371519,-72.87431611599658,-72.99114770943659,-73.5958499946973,-72.9882563007197,-72.97034425996692,-73.24617838330788,-73.0816071333042,-73.22958019436261,-72.94183350897086,-73.25435580571546,-73.29333194501817,-72.99970954625931,-73.19888470016559,-72.99387249378024,-73.05493192169209,-73.23974446882528,-73.32715664461328,-72.94582726842653,-73.13566482785153,-73.19202412249687,-73.12020448824299,-72.99463076797821,-73.0274271330216,-73.0959142845772,-73.07394325817212,-73.23548038169862,-73.17460228509977,-73.03813151727734,-73.05690469784369,-73.11395176069668,-73.25992712996931,-72.78451913176528,-73.32686341563537,-72.90297829473057,-72.97601270702425,-73.14483319567647,-73.25723740063758,-73.29373284258124,-72.82984001609351,-73.03386580010853,-73.38231269662533,-73.45585792813927,-73.32084983253694,-73.21489090854419,-73.1294233145285,-73.1743990714246,-72.73014362753668,-73.36599439600958,-73.25195996915703,-73.18466634217704,-72.92334839588477,-72.8992644713303,-72.90258020462299,-72.91173375272864,-73.36054268452583,-73.04420466719614,-73.36621646599613,-72.9734515579479,-73.18065552197929,-72.83576679383371,-73.03388285798134,-73.02679977612455,-73.03392788455523,-73.00068240887555,-72.93902339151293,-73.13844361875374,-73.03098890909865,-73.15073553075291,-73.43662907203813],\"marker\":{\"color\":\"fuchsia\"},\"mode\":\"markers\",\"name\":\"\",\"showlegend\":false,\"subplot\":\"mapbox\",\"type\":\"scattermapbox\"}],                        {\"template\":{\"data\":{\"histogram2dcontour\":[{\"type\":\"histogram2dcontour\",\"colorbar\":{\"outlinewidth\":0,\"ticks\":\"\"},\"colorscale\":[[0.0,\"#0d0887\"],[0.1111111111111111,\"#46039f\"],[0.2222222222222222,\"#7201a8\"],[0.3333333333333333,\"#9c179e\"],[0.4444444444444444,\"#bd3786\"],[0.5555555555555556,\"#d8576b\"],[0.6666666666666666,\"#ed7953\"],[0.7777777777777778,\"#fb9f3a\"],[0.8888888888888888,\"#fdca26\"],[1.0,\"#f0f921\"]]}],\"choropleth\":[{\"type\":\"choropleth\",\"colorbar\":{\"outlinewidth\":0,\"ticks\":\"\"}}],\"histogram2d\":[{\"type\":\"histogram2d\",\"colorbar\":{\"outlinewidth\":0,\"ticks\":\"\"},\"colorscale\":[[0.0,\"#0d0887\"],[0.1111111111111111,\"#46039f\"],[0.2222222222222222,\"#7201a8\"],[0.3333333333333333,\"#9c179e\"],[0.4444444444444444,\"#bd3786\"],[0.5555555555555556,\"#d8576b\"],[0.6666666666666666,\"#ed7953\"],[0.7777777777777778,\"#fb9f3a\"],[0.8888888888888888,\"#fdca26\"],[1.0,\"#f0f921\"]]}],\"heatmap\":[{\"type\":\"heatmap\",\"colorbar\":{\"outlinewidth\":0,\"ticks\":\"\"},\"colorscale\":[[0.0,\"#0d0887\"],[0.1111111111111111,\"#46039f\"],[0.2222222222222222,\"#7201a8\"],[0.3333333333333333,\"#9c179e\"],[0.4444444444444444,\"#bd3786\"],[0.5555555555555556,\"#d8576b\"],[0.6666666666666666,\"#ed7953\"],[0.7777777777777778,\"#fb9f3a\"],[0.8888888888888888,\"#fdca26\"],[1.0,\"#f0f921\"]]}],\"heatmapgl\":[{\"type\":\"heatmapgl\",\"colorbar\":{\"outlinewidth\":0,\"ticks\":\"\"},\"colorscale\":[[0.0,\"#0d0887\"],[0.1111111111111111,\"#46039f\"],[0.2222222222222222,\"#7201a8\"],[0.3333333333333333,\"#9c179e\"],[0.4444444444444444,\"#bd3786\"],[0.5555555555555556,\"#d8576b\"],[0.6666666666666666,\"#ed7953\"],[0.7777777777777778,\"#fb9f3a\"],[0.8888888888888888,\"#fdca26\"],[1.0,\"#f0f921\"]]}],\"contourcarpet\":[{\"type\":\"contourcarpet\",\"colorbar\":{\"outlinewidth\":0,\"ticks\":\"\"}}],\"contour\":[{\"type\":\"contour\",\"colorbar\":{\"outlinewidth\":0,\"ticks\":\"\"},\"colorscale\":[[0.0,\"#0d0887\"],[0.1111111111111111,\"#46039f\"],[0.2222222222222222,\"#7201a8\"],[0.3333333333333333,\"#9c179e\"],[0.4444444444444444,\"#bd3786\"],[0.5555555555555556,\"#d8576b\"],[0.6666666666666666,\"#ed7953\"],[0.7777777777777778,\"#fb9f3a\"],[0.8888888888888888,\"#fdca26\"],[1.0,\"#f0f921\"]]}],\"surface\":[{\"type\":\"surface\",\"colorbar\":{\"outlinewidth\":0,\"ticks\":\"\"},\"colorscale\":[[0.0,\"#0d0887\"],[0.1111111111111111,\"#46039f\"],[0.2222222222222222,\"#7201a8\"],[0.3333333333333333,\"#9c179e\"],[0.4444444444444444,\"#bd3786\"],[0.5555555555555556,\"#d8576b\"],[0.6666666666666666,\"#ed7953\"],[0.7777777777777778,\"#fb9f3a\"],[0.8888888888888888,\"#fdca26\"],[1.0,\"#f0f921\"]]}],\"mesh3d\":[{\"type\":\"mesh3d\",\"colorbar\":{\"outlinewidth\":0,\"ticks\":\"\"}}],\"scatter\":[{\"fillpattern\":{\"fillmode\":\"overlay\",\"size\":10,\"solidity\":0.2},\"type\":\"scatter\"}],\"parcoords\":[{\"type\":\"parcoords\",\"line\":{\"colorbar\":{\"outlinewidth\":0,\"ticks\":\"\"}}}],\"scatterpolargl\":[{\"type\":\"scatterpolargl\",\"marker\":{\"colorbar\":{\"outlinewidth\":0,\"ticks\":\"\"}}}],\"bar\":[{\"error_x\":{\"color\":\"#2a3f5f\"},\"error_y\":{\"color\":\"#2a3f5f\"},\"marker\":{\"line\":{\"color\":\"#E5ECF6\",\"width\":0.5},\"pattern\":{\"fillmode\":\"overlay\",\"size\":10,\"solidity\":0.2}},\"type\":\"bar\"}],\"scattergeo\":[{\"type\":\"scattergeo\",\"marker\":{\"colorbar\":{\"outlinewidth\":0,\"ticks\":\"\"}}}],\"scatterpolar\":[{\"type\":\"scatterpolar\",\"marker\":{\"colorbar\":{\"outlinewidth\":0,\"ticks\":\"\"}}}],\"histogram\":[{\"marker\":{\"pattern\":{\"fillmode\":\"overlay\",\"size\":10,\"solidity\":0.2}},\"type\":\"histogram\"}],\"scattergl\":[{\"type\":\"scattergl\",\"marker\":{\"colorbar\":{\"outlinewidth\":0,\"ticks\":\"\"}}}],\"scatter3d\":[{\"type\":\"scatter3d\",\"line\":{\"colorbar\":{\"outlinewidth\":0,\"ticks\":\"\"}},\"marker\":{\"colorbar\":{\"outlinewidth\":0,\"ticks\":\"\"}}}],\"scattermapbox\":[{\"type\":\"scattermapbox\",\"marker\":{\"colorbar\":{\"outlinewidth\":0,\"ticks\":\"\"}}}],\"scatterternary\":[{\"type\":\"scatterternary\",\"marker\":{\"colorbar\":{\"outlinewidth\":0,\"ticks\":\"\"}}}],\"scattercarpet\":[{\"type\":\"scattercarpet\",\"marker\":{\"colorbar\":{\"outlinewidth\":0,\"ticks\":\"\"}}}],\"carpet\":[{\"aaxis\":{\"endlinecolor\":\"#2a3f5f\",\"gridcolor\":\"white\",\"linecolor\":\"white\",\"minorgridcolor\":\"white\",\"startlinecolor\":\"#2a3f5f\"},\"baxis\":{\"endlinecolor\":\"#2a3f5f\",\"gridcolor\":\"white\",\"linecolor\":\"white\",\"minorgridcolor\":\"white\",\"startlinecolor\":\"#2a3f5f\"},\"type\":\"carpet\"}],\"table\":[{\"cells\":{\"fill\":{\"color\":\"#EBF0F8\"},\"line\":{\"color\":\"white\"}},\"header\":{\"fill\":{\"color\":\"#C8D4E3\"},\"line\":{\"color\":\"white\"}},\"type\":\"table\"}],\"barpolar\":[{\"marker\":{\"line\":{\"color\":\"#E5ECF6\",\"width\":0.5},\"pattern\":{\"fillmode\":\"overlay\",\"size\":10,\"solidity\":0.2}},\"type\":\"barpolar\"}],\"pie\":[{\"automargin\":true,\"type\":\"pie\"}]},\"layout\":{\"autotypenumbers\":\"strict\",\"colorway\":[\"#636efa\",\"#EF553B\",\"#00cc96\",\"#ab63fa\",\"#FFA15A\",\"#19d3f3\",\"#FF6692\",\"#B6E880\",\"#FF97FF\",\"#FECB52\"],\"font\":{\"color\":\"#2a3f5f\"},\"hovermode\":\"closest\",\"hoverlabel\":{\"align\":\"left\"},\"paper_bgcolor\":\"white\",\"plot_bgcolor\":\"#E5ECF6\",\"polar\":{\"bgcolor\":\"#E5ECF6\",\"angularaxis\":{\"gridcolor\":\"white\",\"linecolor\":\"white\",\"ticks\":\"\"},\"radialaxis\":{\"gridcolor\":\"white\",\"linecolor\":\"white\",\"ticks\":\"\"}},\"ternary\":{\"bgcolor\":\"#E5ECF6\",\"aaxis\":{\"gridcolor\":\"white\",\"linecolor\":\"white\",\"ticks\":\"\"},\"baxis\":{\"gridcolor\":\"white\",\"linecolor\":\"white\",\"ticks\":\"\"},\"caxis\":{\"gridcolor\":\"white\",\"linecolor\":\"white\",\"ticks\":\"\"}},\"coloraxis\":{\"colorbar\":{\"outlinewidth\":0,\"ticks\":\"\"}},\"colorscale\":{\"sequential\":[[0.0,\"#0d0887\"],[0.1111111111111111,\"#46039f\"],[0.2222222222222222,\"#7201a8\"],[0.3333333333333333,\"#9c179e\"],[0.4444444444444444,\"#bd3786\"],[0.5555555555555556,\"#d8576b\"],[0.6666666666666666,\"#ed7953\"],[0.7777777777777778,\"#fb9f3a\"],[0.8888888888888888,\"#fdca26\"],[1.0,\"#f0f921\"]],\"sequentialminus\":[[0.0,\"#0d0887\"],[0.1111111111111111,\"#46039f\"],[0.2222222222222222,\"#7201a8\"],[0.3333333333333333,\"#9c179e\"],[0.4444444444444444,\"#bd3786\"],[0.5555555555555556,\"#d8576b\"],[0.6666666666666666,\"#ed7953\"],[0.7777777777777778,\"#fb9f3a\"],[0.8888888888888888,\"#fdca26\"],[1.0,\"#f0f921\"]],\"diverging\":[[0,\"#8e0152\"],[0.1,\"#c51b7d\"],[0.2,\"#de77ae\"],[0.3,\"#f1b6da\"],[0.4,\"#fde0ef\"],[0.5,\"#f7f7f7\"],[0.6,\"#e6f5d0\"],[0.7,\"#b8e186\"],[0.8,\"#7fbc41\"],[0.9,\"#4d9221\"],[1,\"#276419\"]]},\"xaxis\":{\"gridcolor\":\"white\",\"linecolor\":\"white\",\"ticks\":\"\",\"title\":{\"standoff\":15},\"zerolinecolor\":\"white\",\"automargin\":true,\"zerolinewidth\":2},\"yaxis\":{\"gridcolor\":\"white\",\"linecolor\":\"white\",\"ticks\":\"\",\"title\":{\"standoff\":15},\"zerolinecolor\":\"white\",\"automargin\":true,\"zerolinewidth\":2},\"scene\":{\"xaxis\":{\"backgroundcolor\":\"#E5ECF6\",\"gridcolor\":\"white\",\"linecolor\":\"white\",\"showbackground\":true,\"ticks\":\"\",\"zerolinecolor\":\"white\",\"gridwidth\":2},\"yaxis\":{\"backgroundcolor\":\"#E5ECF6\",\"gridcolor\":\"white\",\"linecolor\":\"white\",\"showbackground\":true,\"ticks\":\"\",\"zerolinecolor\":\"white\",\"gridwidth\":2},\"zaxis\":{\"backgroundcolor\":\"#E5ECF6\",\"gridcolor\":\"white\",\"linecolor\":\"white\",\"showbackground\":true,\"ticks\":\"\",\"zerolinecolor\":\"white\",\"gridwidth\":2}},\"shapedefaults\":{\"line\":{\"color\":\"#2a3f5f\"}},\"annotationdefaults\":{\"arrowcolor\":\"#2a3f5f\",\"arrowhead\":0,\"arrowwidth\":1},\"geo\":{\"bgcolor\":\"white\",\"landcolor\":\"#E5ECF6\",\"subunitcolor\":\"white\",\"showland\":true,\"showlakes\":true,\"lakecolor\":\"white\"},\"title\":{\"x\":0.05},\"mapbox\":{\"style\":\"light\"}}},\"mapbox\":{\"domain\":{\"x\":[0.0,1.0],\"y\":[0.0,1.0]},\"center\":{\"lat\":7.158291590294026,\"lon\":-73.11511570482212},\"zoom\":10,\"style\":\"open-street-map\"},\"legend\":{\"tracegroupgap\":0},\"margin\":{\"t\":0,\"r\":0,\"l\":0,\"b\":0},\"height\":600},                        {\"responsive\": true}                    ).then(function(){\n",
              "                            \n",
              "var gd = document.getElementById('d2f98d18-e96f-4637-8b40-a2920ae4806f');\n",
              "var x = new MutationObserver(function (mutations, observer) {{\n",
              "        var display = window.getComputedStyle(gd).display;\n",
              "        if (!display || display === 'none') {{\n",
              "            console.log([gd, 'removed!']);\n",
              "            Plotly.purge(gd);\n",
              "            observer.disconnect();\n",
              "        }}\n",
              "}});\n",
              "\n",
              "// Listen for the removal of the full notebook cells\n",
              "var notebookContainer = gd.closest('#notebook-container');\n",
              "if (notebookContainer) {{\n",
              "    x.observe(notebookContainer, {childList: true});\n",
              "}}\n",
              "\n",
              "// Listen for the clearing of the current output cell\n",
              "var outputEl = gd.closest('.output');\n",
              "if (outputEl) {{\n",
              "    x.observe(outputEl, {childList: true});\n",
              "}}\n",
              "\n",
              "                        })                };                            </script>        </div>\n",
              "</body>\n",
              "</html>"
            ]
          },
          "metadata": {}
        }
      ]
    },
    {
      "cell_type": "code",
      "source": [
        "# prompt: y con la nota de 1 a 5 diferencia con colores\n",
        "\n",
        "import pandas as pd\n",
        "from sklearn.feature_extraction.text import CountVectorizer\n",
        "from geopy.distance import geodesic\n",
        "import numpy as np\n",
        "import plotly.express as px\n",
        "\n",
        "# ... (Existing code)\n",
        "\n",
        "# Define the number of rows for the DataFrame\n",
        "num_rows = 100\n",
        "\n",
        "# Create random data for age, latitude, and longitude around Bucaramanga\n",
        "# Bucaramanga's approximate coordinates: 7.125° N, 73.116° W\n",
        "bucaramanga_lat = 7.125\n",
        "bucaramanga_lon = -73.116\n",
        "\n",
        "# Generate random variations around Bucaramanga's coordinates\n",
        "latitudes = np.random.normal(loc=bucaramanga_lat, scale=0.2, size=num_rows)  # +/- 0.2 degrees latitude\n",
        "longitudes = np.random.normal(loc=bucaramanga_lon, scale=0.2, size=num_rows)  # +/- 0.2 degrees longitude\n",
        "ages = np.random.randint(18, 80, size=num_rows)  # Ages between 18 and 79\n",
        "names = [f\"Person {i}\" for i in range(1, num_rows+1)]  # Generate names\n",
        "\n",
        "# Create the DataFrame\n",
        "data = {\n",
        "    'Nombre': names,\n",
        "    'Edad': ages,\n",
        "    'Latitud': latitudes,\n",
        "    'Longitud': longitudes,\n",
        "    'Nota': np.random.randint(1, 6, size=num_rows) #add a column called Nota with values from 1 to 5\n",
        "}\n",
        "df = pd.DataFrame(data)\n",
        "\n",
        "print(df.head())\n",
        "\n",
        "#Create the color scale\n",
        "color_scale = ['red', 'orange', 'yellow', 'lightgreen', 'green']\n",
        "\n",
        "fig = px.scatter_mapbox(df, lat=\"Latitud\", lon=\"Longitud\", hover_name=\"Nombre\", hover_data=[\"Edad\", \"Nota\"],\n",
        "                        color=\"Nota\", color_continuous_scale=color_scale, range_color=[1,5], zoom=10, height=600)\n",
        "fig.update_layout(mapbox_style=\"open-street-map\")\n",
        "fig.update_layout(margin={\"r\":0,\"t\":0,\"l\":0,\"b\":0})\n",
        "fig.show()\n"
      ],
      "metadata": {
        "id": "7ydRLz-HpsvQ",
        "outputId": "f26aff00-d5b7-41a1-d36e-6cd3f1e35104",
        "colab": {
          "base_uri": "https://localhost:8080/",
          "height": 721
        }
      },
      "execution_count": 9,
      "outputs": [
        {
          "output_type": "stream",
          "name": "stdout",
          "text": [
            "     Nombre  Edad   Latitud   Longitud  Nota\n",
            "0  Person 1    46  7.167229 -73.199225     2\n",
            "1  Person 2    38  7.236902 -72.719081     2\n",
            "2  Person 3    35  6.937944 -73.218127     3\n",
            "3  Person 4    39  7.091905 -72.971070     2\n",
            "4  Person 5    63  7.049360 -72.883044     5\n"
          ]
        },
        {
          "output_type": "display_data",
          "data": {
            "text/html": [
              "<html>\n",
              "<head><meta charset=\"utf-8\" /></head>\n",
              "<body>\n",
              "    <div>            <script src=\"https://cdnjs.cloudflare.com/ajax/libs/mathjax/2.7.5/MathJax.js?config=TeX-AMS-MML_SVG\"></script><script type=\"text/javascript\">if (window.MathJax && window.MathJax.Hub && window.MathJax.Hub.Config) {window.MathJax.Hub.Config({SVG: {font: \"STIX-Web\"}});}</script>                <script type=\"text/javascript\">window.PlotlyConfig = {MathJaxConfig: 'local'};</script>\n",
              "        <script charset=\"utf-8\" src=\"https://cdn.plot.ly/plotly-2.35.2.min.js\"></script>                <div id=\"806cc7c6-a818-4d8f-9678-4d0a63087617\" class=\"plotly-graph-div\" style=\"height:600px; width:100%;\"></div>            <script type=\"text/javascript\">                                    window.PLOTLYENV=window.PLOTLYENV || {};                                    if (document.getElementById(\"806cc7c6-a818-4d8f-9678-4d0a63087617\")) {                    Plotly.newPlot(                        \"806cc7c6-a818-4d8f-9678-4d0a63087617\",                        [{\"customdata\":[[46,2],[38,2],[35,3],[39,2],[63,5],[26,2],[65,1],[27,5],[32,5],[79,3],[33,2],[71,5],[22,2],[67,4],[79,4],[22,1],[31,1],[76,4],[68,2],[57,3],[60,2],[49,5],[44,2],[38,1],[45,3],[44,2],[44,2],[35,3],[27,4],[33,3],[26,2],[19,3],[56,2],[56,5],[38,4],[24,4],[24,1],[24,2],[46,3],[32,4],[67,5],[34,1],[25,4],[24,2],[66,5],[63,5],[41,1],[38,5],[28,5],[64,4],[68,3],[44,4],[74,1],[32,1],[48,5],[57,1],[58,4],[62,2],[23,1],[31,3],[18,3],[18,4],[65,2],[70,5],[26,2],[71,5],[60,1],[52,2],[52,4],[37,5],[23,4],[47,1],[71,4],[64,2],[31,4],[41,4],[46,5],[55,1],[39,1],[18,3],[19,1],[77,2],[63,4],[31,4],[47,5],[42,4],[49,3],[65,2],[65,4],[69,4],[74,1],[53,5],[78,3],[48,1],[32,3],[52,1],[37,3],[41,5],[67,2],[45,5]],\"hovertemplate\":\"\\u003cb\\u003e%{hovertext}\\u003c\\u002fb\\u003e\\u003cbr\\u003e\\u003cbr\\u003eLatitud=%{lat}\\u003cbr\\u003eLongitud=%{lon}\\u003cbr\\u003eEdad=%{customdata[0]}\\u003cbr\\u003eNota=%{marker.color}\\u003cextra\\u003e\\u003c\\u002fextra\\u003e\",\"hovertext\":[\"Person 1\",\"Person 2\",\"Person 3\",\"Person 4\",\"Person 5\",\"Person 6\",\"Person 7\",\"Person 8\",\"Person 9\",\"Person 10\",\"Person 11\",\"Person 12\",\"Person 13\",\"Person 14\",\"Person 15\",\"Person 16\",\"Person 17\",\"Person 18\",\"Person 19\",\"Person 20\",\"Person 21\",\"Person 22\",\"Person 23\",\"Person 24\",\"Person 25\",\"Person 26\",\"Person 27\",\"Person 28\",\"Person 29\",\"Person 30\",\"Person 31\",\"Person 32\",\"Person 33\",\"Person 34\",\"Person 35\",\"Person 36\",\"Person 37\",\"Person 38\",\"Person 39\",\"Person 40\",\"Person 41\",\"Person 42\",\"Person 43\",\"Person 44\",\"Person 45\",\"Person 46\",\"Person 47\",\"Person 48\",\"Person 49\",\"Person 50\",\"Person 51\",\"Person 52\",\"Person 53\",\"Person 54\",\"Person 55\",\"Person 56\",\"Person 57\",\"Person 58\",\"Person 59\",\"Person 60\",\"Person 61\",\"Person 62\",\"Person 63\",\"Person 64\",\"Person 65\",\"Person 66\",\"Person 67\",\"Person 68\",\"Person 69\",\"Person 70\",\"Person 71\",\"Person 72\",\"Person 73\",\"Person 74\",\"Person 75\",\"Person 76\",\"Person 77\",\"Person 78\",\"Person 79\",\"Person 80\",\"Person 81\",\"Person 82\",\"Person 83\",\"Person 84\",\"Person 85\",\"Person 86\",\"Person 87\",\"Person 88\",\"Person 89\",\"Person 90\",\"Person 91\",\"Person 92\",\"Person 93\",\"Person 94\",\"Person 95\",\"Person 96\",\"Person 97\",\"Person 98\",\"Person 99\",\"Person 100\"],\"lat\":[7.167228985662112,7.236901951134024,6.937944010973766,7.091904701351303,7.049359679260073,7.276137111839476,7.044038472378148,6.990179170376721,7.190571883532754,6.711452001932438,7.050371017191675,7.411113065607698,7.31743185106235,7.153219678891167,7.121666814587976,7.37943194682177,7.141623346727559,6.831066193596658,6.8799904848039155,7.097452092198767,7.464699009216547,7.563890838912584,7.07530382242276,7.065616640159958,7.125189997708353,7.046770934223768,7.30433008212493,7.036937039306481,7.042816139300562,6.813759928405933,7.549277950943763,6.918083089338332,7.25714021818624,7.437489599550583,7.065001778995309,7.02145275987542,7.042011865836523,7.434036399534993,7.13571355342962,7.227546607586873,7.245853554337245,7.2248505209932805,7.14573747198556,7.153741026361389,6.978895467585308,6.909918295322865,6.92026593264444,7.404127593824809,7.510784228258299,7.30538466217794,7.216107085199046,6.973765939166862,7.409548373993584,6.970266268122502,6.855417458443382,7.1884060009864275,6.931650229316952,7.071005318912784,6.904265735715669,7.288335571984545,7.288534059584739,7.343748891180034,7.085663342863882,7.211281483473168,7.311668360096192,7.113069577699064,7.47461441014803,7.36580035283453,6.69957392627828,6.964337678387773,6.822288729346118,6.850207931377227,7.296687177975852,7.326923873620132,7.083047974481603,7.471999999924392,7.014997967778662,6.916748926435219,7.285122593396254,7.2124794607230776,7.068867267755146,6.987886987126787,7.124841215232006,7.4304557104568065,7.093335643296032,7.430705776277338,7.075890634262924,7.2407648605950605,7.032847159822582,7.591734102173156,6.999836706326298,6.915928122514567,7.028596482923399,7.305432458962622,7.240148636109119,7.176441132862343,6.901754400514941,7.291366114822619,7.312400753558916,7.604475757337637],\"legendgroup\":\"\",\"lon\":[-73.1992249950403,-72.71908146858895,-73.21812727796143,-72.97107013209354,-72.88304432333005,-73.0745614707035,-73.07844414991426,-72.77303895081167,-72.97120732455521,-73.04600455965854,-73.36995887994213,-72.9873514403197,-72.93500489716196,-73.46601697781063,-72.82693697178726,-73.0968891635326,-72.82716408095114,-73.16328040357408,-72.94720485854334,-73.09532664279853,-73.07408045183995,-72.99997598471192,-73.3887976867254,-72.77392831765148,-73.24056164655494,-73.27598368057781,-73.35816852583038,-73.3048211529743,-73.40632556154922,-73.04048687227912,-72.65667202132867,-73.101079098511,-73.10273308953226,-73.22933856914383,-73.00105720831387,-72.87426371016355,-73.14331395336464,-73.2503590926913,-72.89641780978845,-73.08439952651534,-72.82180444966461,-73.08433433325536,-73.20085278577812,-73.23836802967524,-73.08364220330178,-73.07598650030214,-73.19697070677668,-73.28117844334881,-73.21127508691723,-73.13270584023465,-72.8661445490702,-73.29822857426352,-72.88909525637273,-73.17341928181249,-73.25015437051141,-73.02396011897217,-73.38605453088236,-72.87807779476444,-73.27106584297113,-73.45162117383508,-73.15093309872303,-73.62039873031249,-73.25785985783303,-73.44305467669696,-73.18752251471368,-73.3540418315571,-72.9104698085217,-72.93264869524862,-73.18899996872794,-72.92269632174113,-73.05631967643728,-72.71342489630942,-72.80766454466116,-73.12029566391917,-73.36744540012576,-73.2843446986408,-73.07502868675195,-73.02806969039277,-73.15369539692074,-73.0448543945278,-73.15403695811608,-73.0035258383074,-73.23703544873943,-73.18671003508956,-72.88323034176233,-73.20067782843732,-73.2953962752434,-73.29596453505212,-73.01314914938587,-72.96422784786805,-73.12855570866517,-73.07897561227105,-72.89562316176257,-72.82558855090585,-72.92428632588049,-72.91758685780881,-73.1751139392716,-73.29819953717438,-73.2146809230862,-72.95121862336171],\"marker\":{\"color\":[2,2,3,2,5,2,1,5,5,3,2,5,2,4,4,1,1,4,2,3,2,5,2,1,3,2,2,3,4,3,2,3,2,5,4,4,1,2,3,4,5,1,4,2,5,5,1,5,5,4,3,4,1,1,5,1,4,2,1,3,3,4,2,5,2,5,1,2,4,5,4,1,4,2,4,4,5,1,1,3,1,2,4,4,5,4,3,2,4,4,1,5,3,1,3,1,3,5,2,5],\"coloraxis\":\"coloraxis\"},\"mode\":\"markers\",\"name\":\"\",\"showlegend\":false,\"subplot\":\"mapbox\",\"type\":\"scattermapbox\"}],                        {\"template\":{\"data\":{\"histogram2dcontour\":[{\"type\":\"histogram2dcontour\",\"colorbar\":{\"outlinewidth\":0,\"ticks\":\"\"},\"colorscale\":[[0.0,\"#0d0887\"],[0.1111111111111111,\"#46039f\"],[0.2222222222222222,\"#7201a8\"],[0.3333333333333333,\"#9c179e\"],[0.4444444444444444,\"#bd3786\"],[0.5555555555555556,\"#d8576b\"],[0.6666666666666666,\"#ed7953\"],[0.7777777777777778,\"#fb9f3a\"],[0.8888888888888888,\"#fdca26\"],[1.0,\"#f0f921\"]]}],\"choropleth\":[{\"type\":\"choropleth\",\"colorbar\":{\"outlinewidth\":0,\"ticks\":\"\"}}],\"histogram2d\":[{\"type\":\"histogram2d\",\"colorbar\":{\"outlinewidth\":0,\"ticks\":\"\"},\"colorscale\":[[0.0,\"#0d0887\"],[0.1111111111111111,\"#46039f\"],[0.2222222222222222,\"#7201a8\"],[0.3333333333333333,\"#9c179e\"],[0.4444444444444444,\"#bd3786\"],[0.5555555555555556,\"#d8576b\"],[0.6666666666666666,\"#ed7953\"],[0.7777777777777778,\"#fb9f3a\"],[0.8888888888888888,\"#fdca26\"],[1.0,\"#f0f921\"]]}],\"heatmap\":[{\"type\":\"heatmap\",\"colorbar\":{\"outlinewidth\":0,\"ticks\":\"\"},\"colorscale\":[[0.0,\"#0d0887\"],[0.1111111111111111,\"#46039f\"],[0.2222222222222222,\"#7201a8\"],[0.3333333333333333,\"#9c179e\"],[0.4444444444444444,\"#bd3786\"],[0.5555555555555556,\"#d8576b\"],[0.6666666666666666,\"#ed7953\"],[0.7777777777777778,\"#fb9f3a\"],[0.8888888888888888,\"#fdca26\"],[1.0,\"#f0f921\"]]}],\"heatmapgl\":[{\"type\":\"heatmapgl\",\"colorbar\":{\"outlinewidth\":0,\"ticks\":\"\"},\"colorscale\":[[0.0,\"#0d0887\"],[0.1111111111111111,\"#46039f\"],[0.2222222222222222,\"#7201a8\"],[0.3333333333333333,\"#9c179e\"],[0.4444444444444444,\"#bd3786\"],[0.5555555555555556,\"#d8576b\"],[0.6666666666666666,\"#ed7953\"],[0.7777777777777778,\"#fb9f3a\"],[0.8888888888888888,\"#fdca26\"],[1.0,\"#f0f921\"]]}],\"contourcarpet\":[{\"type\":\"contourcarpet\",\"colorbar\":{\"outlinewidth\":0,\"ticks\":\"\"}}],\"contour\":[{\"type\":\"contour\",\"colorbar\":{\"outlinewidth\":0,\"ticks\":\"\"},\"colorscale\":[[0.0,\"#0d0887\"],[0.1111111111111111,\"#46039f\"],[0.2222222222222222,\"#7201a8\"],[0.3333333333333333,\"#9c179e\"],[0.4444444444444444,\"#bd3786\"],[0.5555555555555556,\"#d8576b\"],[0.6666666666666666,\"#ed7953\"],[0.7777777777777778,\"#fb9f3a\"],[0.8888888888888888,\"#fdca26\"],[1.0,\"#f0f921\"]]}],\"surface\":[{\"type\":\"surface\",\"colorbar\":{\"outlinewidth\":0,\"ticks\":\"\"},\"colorscale\":[[0.0,\"#0d0887\"],[0.1111111111111111,\"#46039f\"],[0.2222222222222222,\"#7201a8\"],[0.3333333333333333,\"#9c179e\"],[0.4444444444444444,\"#bd3786\"],[0.5555555555555556,\"#d8576b\"],[0.6666666666666666,\"#ed7953\"],[0.7777777777777778,\"#fb9f3a\"],[0.8888888888888888,\"#fdca26\"],[1.0,\"#f0f921\"]]}],\"mesh3d\":[{\"type\":\"mesh3d\",\"colorbar\":{\"outlinewidth\":0,\"ticks\":\"\"}}],\"scatter\":[{\"fillpattern\":{\"fillmode\":\"overlay\",\"size\":10,\"solidity\":0.2},\"type\":\"scatter\"}],\"parcoords\":[{\"type\":\"parcoords\",\"line\":{\"colorbar\":{\"outlinewidth\":0,\"ticks\":\"\"}}}],\"scatterpolargl\":[{\"type\":\"scatterpolargl\",\"marker\":{\"colorbar\":{\"outlinewidth\":0,\"ticks\":\"\"}}}],\"bar\":[{\"error_x\":{\"color\":\"#2a3f5f\"},\"error_y\":{\"color\":\"#2a3f5f\"},\"marker\":{\"line\":{\"color\":\"#E5ECF6\",\"width\":0.5},\"pattern\":{\"fillmode\":\"overlay\",\"size\":10,\"solidity\":0.2}},\"type\":\"bar\"}],\"scattergeo\":[{\"type\":\"scattergeo\",\"marker\":{\"colorbar\":{\"outlinewidth\":0,\"ticks\":\"\"}}}],\"scatterpolar\":[{\"type\":\"scatterpolar\",\"marker\":{\"colorbar\":{\"outlinewidth\":0,\"ticks\":\"\"}}}],\"histogram\":[{\"marker\":{\"pattern\":{\"fillmode\":\"overlay\",\"size\":10,\"solidity\":0.2}},\"type\":\"histogram\"}],\"scattergl\":[{\"type\":\"scattergl\",\"marker\":{\"colorbar\":{\"outlinewidth\":0,\"ticks\":\"\"}}}],\"scatter3d\":[{\"type\":\"scatter3d\",\"line\":{\"colorbar\":{\"outlinewidth\":0,\"ticks\":\"\"}},\"marker\":{\"colorbar\":{\"outlinewidth\":0,\"ticks\":\"\"}}}],\"scattermapbox\":[{\"type\":\"scattermapbox\",\"marker\":{\"colorbar\":{\"outlinewidth\":0,\"ticks\":\"\"}}}],\"scatterternary\":[{\"type\":\"scatterternary\",\"marker\":{\"colorbar\":{\"outlinewidth\":0,\"ticks\":\"\"}}}],\"scattercarpet\":[{\"type\":\"scattercarpet\",\"marker\":{\"colorbar\":{\"outlinewidth\":0,\"ticks\":\"\"}}}],\"carpet\":[{\"aaxis\":{\"endlinecolor\":\"#2a3f5f\",\"gridcolor\":\"white\",\"linecolor\":\"white\",\"minorgridcolor\":\"white\",\"startlinecolor\":\"#2a3f5f\"},\"baxis\":{\"endlinecolor\":\"#2a3f5f\",\"gridcolor\":\"white\",\"linecolor\":\"white\",\"minorgridcolor\":\"white\",\"startlinecolor\":\"#2a3f5f\"},\"type\":\"carpet\"}],\"table\":[{\"cells\":{\"fill\":{\"color\":\"#EBF0F8\"},\"line\":{\"color\":\"white\"}},\"header\":{\"fill\":{\"color\":\"#C8D4E3\"},\"line\":{\"color\":\"white\"}},\"type\":\"table\"}],\"barpolar\":[{\"marker\":{\"line\":{\"color\":\"#E5ECF6\",\"width\":0.5},\"pattern\":{\"fillmode\":\"overlay\",\"size\":10,\"solidity\":0.2}},\"type\":\"barpolar\"}],\"pie\":[{\"automargin\":true,\"type\":\"pie\"}]},\"layout\":{\"autotypenumbers\":\"strict\",\"colorway\":[\"#636efa\",\"#EF553B\",\"#00cc96\",\"#ab63fa\",\"#FFA15A\",\"#19d3f3\",\"#FF6692\",\"#B6E880\",\"#FF97FF\",\"#FECB52\"],\"font\":{\"color\":\"#2a3f5f\"},\"hovermode\":\"closest\",\"hoverlabel\":{\"align\":\"left\"},\"paper_bgcolor\":\"white\",\"plot_bgcolor\":\"#E5ECF6\",\"polar\":{\"bgcolor\":\"#E5ECF6\",\"angularaxis\":{\"gridcolor\":\"white\",\"linecolor\":\"white\",\"ticks\":\"\"},\"radialaxis\":{\"gridcolor\":\"white\",\"linecolor\":\"white\",\"ticks\":\"\"}},\"ternary\":{\"bgcolor\":\"#E5ECF6\",\"aaxis\":{\"gridcolor\":\"white\",\"linecolor\":\"white\",\"ticks\":\"\"},\"baxis\":{\"gridcolor\":\"white\",\"linecolor\":\"white\",\"ticks\":\"\"},\"caxis\":{\"gridcolor\":\"white\",\"linecolor\":\"white\",\"ticks\":\"\"}},\"coloraxis\":{\"colorbar\":{\"outlinewidth\":0,\"ticks\":\"\"}},\"colorscale\":{\"sequential\":[[0.0,\"#0d0887\"],[0.1111111111111111,\"#46039f\"],[0.2222222222222222,\"#7201a8\"],[0.3333333333333333,\"#9c179e\"],[0.4444444444444444,\"#bd3786\"],[0.5555555555555556,\"#d8576b\"],[0.6666666666666666,\"#ed7953\"],[0.7777777777777778,\"#fb9f3a\"],[0.8888888888888888,\"#fdca26\"],[1.0,\"#f0f921\"]],\"sequentialminus\":[[0.0,\"#0d0887\"],[0.1111111111111111,\"#46039f\"],[0.2222222222222222,\"#7201a8\"],[0.3333333333333333,\"#9c179e\"],[0.4444444444444444,\"#bd3786\"],[0.5555555555555556,\"#d8576b\"],[0.6666666666666666,\"#ed7953\"],[0.7777777777777778,\"#fb9f3a\"],[0.8888888888888888,\"#fdca26\"],[1.0,\"#f0f921\"]],\"diverging\":[[0,\"#8e0152\"],[0.1,\"#c51b7d\"],[0.2,\"#de77ae\"],[0.3,\"#f1b6da\"],[0.4,\"#fde0ef\"],[0.5,\"#f7f7f7\"],[0.6,\"#e6f5d0\"],[0.7,\"#b8e186\"],[0.8,\"#7fbc41\"],[0.9,\"#4d9221\"],[1,\"#276419\"]]},\"xaxis\":{\"gridcolor\":\"white\",\"linecolor\":\"white\",\"ticks\":\"\",\"title\":{\"standoff\":15},\"zerolinecolor\":\"white\",\"automargin\":true,\"zerolinewidth\":2},\"yaxis\":{\"gridcolor\":\"white\",\"linecolor\":\"white\",\"ticks\":\"\",\"title\":{\"standoff\":15},\"zerolinecolor\":\"white\",\"automargin\":true,\"zerolinewidth\":2},\"scene\":{\"xaxis\":{\"backgroundcolor\":\"#E5ECF6\",\"gridcolor\":\"white\",\"linecolor\":\"white\",\"showbackground\":true,\"ticks\":\"\",\"zerolinecolor\":\"white\",\"gridwidth\":2},\"yaxis\":{\"backgroundcolor\":\"#E5ECF6\",\"gridcolor\":\"white\",\"linecolor\":\"white\",\"showbackground\":true,\"ticks\":\"\",\"zerolinecolor\":\"white\",\"gridwidth\":2},\"zaxis\":{\"backgroundcolor\":\"#E5ECF6\",\"gridcolor\":\"white\",\"linecolor\":\"white\",\"showbackground\":true,\"ticks\":\"\",\"zerolinecolor\":\"white\",\"gridwidth\":2}},\"shapedefaults\":{\"line\":{\"color\":\"#2a3f5f\"}},\"annotationdefaults\":{\"arrowcolor\":\"#2a3f5f\",\"arrowhead\":0,\"arrowwidth\":1},\"geo\":{\"bgcolor\":\"white\",\"landcolor\":\"#E5ECF6\",\"subunitcolor\":\"white\",\"showland\":true,\"showlakes\":true,\"lakecolor\":\"white\"},\"title\":{\"x\":0.05},\"mapbox\":{\"style\":\"light\"}}},\"mapbox\":{\"domain\":{\"x\":[0.0,1.0],\"y\":[0.0,1.0]},\"center\":{\"lat\":7.153069860908572,\"lon\":-73.09930194852788},\"zoom\":10,\"style\":\"open-street-map\"},\"coloraxis\":{\"colorbar\":{\"title\":{\"text\":\"Nota\"}},\"colorscale\":[[0.0,\"red\"],[0.25,\"orange\"],[0.5,\"yellow\"],[0.75,\"lightgreen\"],[1.0,\"green\"]],\"cmin\":1,\"cmax\":5},\"legend\":{\"tracegroupgap\":0},\"margin\":{\"t\":0,\"r\":0,\"l\":0,\"b\":0},\"height\":600},                        {\"responsive\": true}                    ).then(function(){\n",
              "                            \n",
              "var gd = document.getElementById('806cc7c6-a818-4d8f-9678-4d0a63087617');\n",
              "var x = new MutationObserver(function (mutations, observer) {{\n",
              "        var display = window.getComputedStyle(gd).display;\n",
              "        if (!display || display === 'none') {{\n",
              "            console.log([gd, 'removed!']);\n",
              "            Plotly.purge(gd);\n",
              "            observer.disconnect();\n",
              "        }}\n",
              "}});\n",
              "\n",
              "// Listen for the removal of the full notebook cells\n",
              "var notebookContainer = gd.closest('#notebook-container');\n",
              "if (notebookContainer) {{\n",
              "    x.observe(notebookContainer, {childList: true});\n",
              "}}\n",
              "\n",
              "// Listen for the clearing of the current output cell\n",
              "var outputEl = gd.closest('.output');\n",
              "if (outputEl) {{\n",
              "    x.observe(outputEl, {childList: true});\n",
              "}}\n",
              "\n",
              "                        })                };                            </script>        </div>\n",
              "</body>\n",
              "</html>"
            ]
          },
          "metadata": {}
        }
      ]
    },
    {
      "cell_type": "code",
      "source": [
        "# prompt: en bucaramanga\n",
        "\n",
        "import plotly.express as px\n",
        "\n",
        "# Assuming 'df' is already defined as in your provided code.\n",
        "\n",
        "fig = px.scatter_mapbox(df, lat=\"Latitud\", lon=\"Longitud\", hover_name=\"Nombre\", hover_data=[\"Edad\", \"Nota\"],\n",
        "                        color=\"Nota\", color_continuous_scale=px.colors.sequential.Viridis, range_color=[1,5], zoom=10, height=600)\n",
        "fig.update_layout(mapbox_style=\"open-street-map\")\n",
        "fig.update_layout(margin={\"r\":0,\"t\":0,\"l\":0,\"b\":0})\n",
        "\n",
        "# Add slider for 'Nota'\n",
        "fig.update_layout(\n",
        "    sliders=[\n",
        "        dict(\n",
        "            active=0,\n",
        "            currentvalue={\"prefix\": \"Nota: \"},\n",
        "            pad={\"t\": 50},\n",
        "            steps=[\n",
        "                dict(\n",
        "                    label=str(i),\n",
        "                    method=\"update\",\n",
        "                    args=[{\"visible\": [j == i for j in df[\"Nota\"]]}],  # Update visibility based on Nota\n",
        "                )\n",
        "                for i in df[\"Nota\"].unique()\n",
        "            ],\n",
        "        )\n",
        "    ]\n",
        ")\n",
        "\n",
        "fig.show()\n"
      ],
      "metadata": {
        "id": "1B3EcRFXp6N3",
        "outputId": "93f43c09-2be0-4bed-b3c0-84ecef9baed2",
        "colab": {
          "base_uri": "https://localhost:8080/",
          "height": 617
        }
      },
      "execution_count": 10,
      "outputs": [
        {
          "output_type": "display_data",
          "data": {
            "text/html": [
              "<html>\n",
              "<head><meta charset=\"utf-8\" /></head>\n",
              "<body>\n",
              "    <div>            <script src=\"https://cdnjs.cloudflare.com/ajax/libs/mathjax/2.7.5/MathJax.js?config=TeX-AMS-MML_SVG\"></script><script type=\"text/javascript\">if (window.MathJax && window.MathJax.Hub && window.MathJax.Hub.Config) {window.MathJax.Hub.Config({SVG: {font: \"STIX-Web\"}});}</script>                <script type=\"text/javascript\">window.PlotlyConfig = {MathJaxConfig: 'local'};</script>\n",
              "        <script charset=\"utf-8\" src=\"https://cdn.plot.ly/plotly-2.35.2.min.js\"></script>                <div id=\"21bbf934-5e95-4fb2-9b85-1bb633ef468f\" class=\"plotly-graph-div\" style=\"height:600px; width:100%;\"></div>            <script type=\"text/javascript\">                                    window.PLOTLYENV=window.PLOTLYENV || {};                                    if (document.getElementById(\"21bbf934-5e95-4fb2-9b85-1bb633ef468f\")) {                    Plotly.newPlot(                        \"21bbf934-5e95-4fb2-9b85-1bb633ef468f\",                        [{\"customdata\":[[46,2],[38,2],[35,3],[39,2],[63,5],[26,2],[65,1],[27,5],[32,5],[79,3],[33,2],[71,5],[22,2],[67,4],[79,4],[22,1],[31,1],[76,4],[68,2],[57,3],[60,2],[49,5],[44,2],[38,1],[45,3],[44,2],[44,2],[35,3],[27,4],[33,3],[26,2],[19,3],[56,2],[56,5],[38,4],[24,4],[24,1],[24,2],[46,3],[32,4],[67,5],[34,1],[25,4],[24,2],[66,5],[63,5],[41,1],[38,5],[28,5],[64,4],[68,3],[44,4],[74,1],[32,1],[48,5],[57,1],[58,4],[62,2],[23,1],[31,3],[18,3],[18,4],[65,2],[70,5],[26,2],[71,5],[60,1],[52,2],[52,4],[37,5],[23,4],[47,1],[71,4],[64,2],[31,4],[41,4],[46,5],[55,1],[39,1],[18,3],[19,1],[77,2],[63,4],[31,4],[47,5],[42,4],[49,3],[65,2],[65,4],[69,4],[74,1],[53,5],[78,3],[48,1],[32,3],[52,1],[37,3],[41,5],[67,2],[45,5]],\"hovertemplate\":\"\\u003cb\\u003e%{hovertext}\\u003c\\u002fb\\u003e\\u003cbr\\u003e\\u003cbr\\u003eLatitud=%{lat}\\u003cbr\\u003eLongitud=%{lon}\\u003cbr\\u003eEdad=%{customdata[0]}\\u003cbr\\u003eNota=%{marker.color}\\u003cextra\\u003e\\u003c\\u002fextra\\u003e\",\"hovertext\":[\"Person 1\",\"Person 2\",\"Person 3\",\"Person 4\",\"Person 5\",\"Person 6\",\"Person 7\",\"Person 8\",\"Person 9\",\"Person 10\",\"Person 11\",\"Person 12\",\"Person 13\",\"Person 14\",\"Person 15\",\"Person 16\",\"Person 17\",\"Person 18\",\"Person 19\",\"Person 20\",\"Person 21\",\"Person 22\",\"Person 23\",\"Person 24\",\"Person 25\",\"Person 26\",\"Person 27\",\"Person 28\",\"Person 29\",\"Person 30\",\"Person 31\",\"Person 32\",\"Person 33\",\"Person 34\",\"Person 35\",\"Person 36\",\"Person 37\",\"Person 38\",\"Person 39\",\"Person 40\",\"Person 41\",\"Person 42\",\"Person 43\",\"Person 44\",\"Person 45\",\"Person 46\",\"Person 47\",\"Person 48\",\"Person 49\",\"Person 50\",\"Person 51\",\"Person 52\",\"Person 53\",\"Person 54\",\"Person 55\",\"Person 56\",\"Person 57\",\"Person 58\",\"Person 59\",\"Person 60\",\"Person 61\",\"Person 62\",\"Person 63\",\"Person 64\",\"Person 65\",\"Person 66\",\"Person 67\",\"Person 68\",\"Person 69\",\"Person 70\",\"Person 71\",\"Person 72\",\"Person 73\",\"Person 74\",\"Person 75\",\"Person 76\",\"Person 77\",\"Person 78\",\"Person 79\",\"Person 80\",\"Person 81\",\"Person 82\",\"Person 83\",\"Person 84\",\"Person 85\",\"Person 86\",\"Person 87\",\"Person 88\",\"Person 89\",\"Person 90\",\"Person 91\",\"Person 92\",\"Person 93\",\"Person 94\",\"Person 95\",\"Person 96\",\"Person 97\",\"Person 98\",\"Person 99\",\"Person 100\"],\"lat\":[7.167228985662112,7.236901951134024,6.937944010973766,7.091904701351303,7.049359679260073,7.276137111839476,7.044038472378148,6.990179170376721,7.190571883532754,6.711452001932438,7.050371017191675,7.411113065607698,7.31743185106235,7.153219678891167,7.121666814587976,7.37943194682177,7.141623346727559,6.831066193596658,6.8799904848039155,7.097452092198767,7.464699009216547,7.563890838912584,7.07530382242276,7.065616640159958,7.125189997708353,7.046770934223768,7.30433008212493,7.036937039306481,7.042816139300562,6.813759928405933,7.549277950943763,6.918083089338332,7.25714021818624,7.437489599550583,7.065001778995309,7.02145275987542,7.042011865836523,7.434036399534993,7.13571355342962,7.227546607586873,7.245853554337245,7.2248505209932805,7.14573747198556,7.153741026361389,6.978895467585308,6.909918295322865,6.92026593264444,7.404127593824809,7.510784228258299,7.30538466217794,7.216107085199046,6.973765939166862,7.409548373993584,6.970266268122502,6.855417458443382,7.1884060009864275,6.931650229316952,7.071005318912784,6.904265735715669,7.288335571984545,7.288534059584739,7.343748891180034,7.085663342863882,7.211281483473168,7.311668360096192,7.113069577699064,7.47461441014803,7.36580035283453,6.69957392627828,6.964337678387773,6.822288729346118,6.850207931377227,7.296687177975852,7.326923873620132,7.083047974481603,7.471999999924392,7.014997967778662,6.916748926435219,7.285122593396254,7.2124794607230776,7.068867267755146,6.987886987126787,7.124841215232006,7.4304557104568065,7.093335643296032,7.430705776277338,7.075890634262924,7.2407648605950605,7.032847159822582,7.591734102173156,6.999836706326298,6.915928122514567,7.028596482923399,7.305432458962622,7.240148636109119,7.176441132862343,6.901754400514941,7.291366114822619,7.312400753558916,7.604475757337637],\"legendgroup\":\"\",\"lon\":[-73.1992249950403,-72.71908146858895,-73.21812727796143,-72.97107013209354,-72.88304432333005,-73.0745614707035,-73.07844414991426,-72.77303895081167,-72.97120732455521,-73.04600455965854,-73.36995887994213,-72.9873514403197,-72.93500489716196,-73.46601697781063,-72.82693697178726,-73.0968891635326,-72.82716408095114,-73.16328040357408,-72.94720485854334,-73.09532664279853,-73.07408045183995,-72.99997598471192,-73.3887976867254,-72.77392831765148,-73.24056164655494,-73.27598368057781,-73.35816852583038,-73.3048211529743,-73.40632556154922,-73.04048687227912,-72.65667202132867,-73.101079098511,-73.10273308953226,-73.22933856914383,-73.00105720831387,-72.87426371016355,-73.14331395336464,-73.2503590926913,-72.89641780978845,-73.08439952651534,-72.82180444966461,-73.08433433325536,-73.20085278577812,-73.23836802967524,-73.08364220330178,-73.07598650030214,-73.19697070677668,-73.28117844334881,-73.21127508691723,-73.13270584023465,-72.8661445490702,-73.29822857426352,-72.88909525637273,-73.17341928181249,-73.25015437051141,-73.02396011897217,-73.38605453088236,-72.87807779476444,-73.27106584297113,-73.45162117383508,-73.15093309872303,-73.62039873031249,-73.25785985783303,-73.44305467669696,-73.18752251471368,-73.3540418315571,-72.9104698085217,-72.93264869524862,-73.18899996872794,-72.92269632174113,-73.05631967643728,-72.71342489630942,-72.80766454466116,-73.12029566391917,-73.36744540012576,-73.2843446986408,-73.07502868675195,-73.02806969039277,-73.15369539692074,-73.0448543945278,-73.15403695811608,-73.0035258383074,-73.23703544873943,-73.18671003508956,-72.88323034176233,-73.20067782843732,-73.2953962752434,-73.29596453505212,-73.01314914938587,-72.96422784786805,-73.12855570866517,-73.07897561227105,-72.89562316176257,-72.82558855090585,-72.92428632588049,-72.91758685780881,-73.1751139392716,-73.29819953717438,-73.2146809230862,-72.95121862336171],\"marker\":{\"color\":[2,2,3,2,5,2,1,5,5,3,2,5,2,4,4,1,1,4,2,3,2,5,2,1,3,2,2,3,4,3,2,3,2,5,4,4,1,2,3,4,5,1,4,2,5,5,1,5,5,4,3,4,1,1,5,1,4,2,1,3,3,4,2,5,2,5,1,2,4,5,4,1,4,2,4,4,5,1,1,3,1,2,4,4,5,4,3,2,4,4,1,5,3,1,3,1,3,5,2,5],\"coloraxis\":\"coloraxis\"},\"mode\":\"markers\",\"name\":\"\",\"showlegend\":false,\"subplot\":\"mapbox\",\"type\":\"scattermapbox\"}],                        {\"template\":{\"data\":{\"histogram2dcontour\":[{\"type\":\"histogram2dcontour\",\"colorbar\":{\"outlinewidth\":0,\"ticks\":\"\"},\"colorscale\":[[0.0,\"#0d0887\"],[0.1111111111111111,\"#46039f\"],[0.2222222222222222,\"#7201a8\"],[0.3333333333333333,\"#9c179e\"],[0.4444444444444444,\"#bd3786\"],[0.5555555555555556,\"#d8576b\"],[0.6666666666666666,\"#ed7953\"],[0.7777777777777778,\"#fb9f3a\"],[0.8888888888888888,\"#fdca26\"],[1.0,\"#f0f921\"]]}],\"choropleth\":[{\"type\":\"choropleth\",\"colorbar\":{\"outlinewidth\":0,\"ticks\":\"\"}}],\"histogram2d\":[{\"type\":\"histogram2d\",\"colorbar\":{\"outlinewidth\":0,\"ticks\":\"\"},\"colorscale\":[[0.0,\"#0d0887\"],[0.1111111111111111,\"#46039f\"],[0.2222222222222222,\"#7201a8\"],[0.3333333333333333,\"#9c179e\"],[0.4444444444444444,\"#bd3786\"],[0.5555555555555556,\"#d8576b\"],[0.6666666666666666,\"#ed7953\"],[0.7777777777777778,\"#fb9f3a\"],[0.8888888888888888,\"#fdca26\"],[1.0,\"#f0f921\"]]}],\"heatmap\":[{\"type\":\"heatmap\",\"colorbar\":{\"outlinewidth\":0,\"ticks\":\"\"},\"colorscale\":[[0.0,\"#0d0887\"],[0.1111111111111111,\"#46039f\"],[0.2222222222222222,\"#7201a8\"],[0.3333333333333333,\"#9c179e\"],[0.4444444444444444,\"#bd3786\"],[0.5555555555555556,\"#d8576b\"],[0.6666666666666666,\"#ed7953\"],[0.7777777777777778,\"#fb9f3a\"],[0.8888888888888888,\"#fdca26\"],[1.0,\"#f0f921\"]]}],\"heatmapgl\":[{\"type\":\"heatmapgl\",\"colorbar\":{\"outlinewidth\":0,\"ticks\":\"\"},\"colorscale\":[[0.0,\"#0d0887\"],[0.1111111111111111,\"#46039f\"],[0.2222222222222222,\"#7201a8\"],[0.3333333333333333,\"#9c179e\"],[0.4444444444444444,\"#bd3786\"],[0.5555555555555556,\"#d8576b\"],[0.6666666666666666,\"#ed7953\"],[0.7777777777777778,\"#fb9f3a\"],[0.8888888888888888,\"#fdca26\"],[1.0,\"#f0f921\"]]}],\"contourcarpet\":[{\"type\":\"contourcarpet\",\"colorbar\":{\"outlinewidth\":0,\"ticks\":\"\"}}],\"contour\":[{\"type\":\"contour\",\"colorbar\":{\"outlinewidth\":0,\"ticks\":\"\"},\"colorscale\":[[0.0,\"#0d0887\"],[0.1111111111111111,\"#46039f\"],[0.2222222222222222,\"#7201a8\"],[0.3333333333333333,\"#9c179e\"],[0.4444444444444444,\"#bd3786\"],[0.5555555555555556,\"#d8576b\"],[0.6666666666666666,\"#ed7953\"],[0.7777777777777778,\"#fb9f3a\"],[0.8888888888888888,\"#fdca26\"],[1.0,\"#f0f921\"]]}],\"surface\":[{\"type\":\"surface\",\"colorbar\":{\"outlinewidth\":0,\"ticks\":\"\"},\"colorscale\":[[0.0,\"#0d0887\"],[0.1111111111111111,\"#46039f\"],[0.2222222222222222,\"#7201a8\"],[0.3333333333333333,\"#9c179e\"],[0.4444444444444444,\"#bd3786\"],[0.5555555555555556,\"#d8576b\"],[0.6666666666666666,\"#ed7953\"],[0.7777777777777778,\"#fb9f3a\"],[0.8888888888888888,\"#fdca26\"],[1.0,\"#f0f921\"]]}],\"mesh3d\":[{\"type\":\"mesh3d\",\"colorbar\":{\"outlinewidth\":0,\"ticks\":\"\"}}],\"scatter\":[{\"fillpattern\":{\"fillmode\":\"overlay\",\"size\":10,\"solidity\":0.2},\"type\":\"scatter\"}],\"parcoords\":[{\"type\":\"parcoords\",\"line\":{\"colorbar\":{\"outlinewidth\":0,\"ticks\":\"\"}}}],\"scatterpolargl\":[{\"type\":\"scatterpolargl\",\"marker\":{\"colorbar\":{\"outlinewidth\":0,\"ticks\":\"\"}}}],\"bar\":[{\"error_x\":{\"color\":\"#2a3f5f\"},\"error_y\":{\"color\":\"#2a3f5f\"},\"marker\":{\"line\":{\"color\":\"#E5ECF6\",\"width\":0.5},\"pattern\":{\"fillmode\":\"overlay\",\"size\":10,\"solidity\":0.2}},\"type\":\"bar\"}],\"scattergeo\":[{\"type\":\"scattergeo\",\"marker\":{\"colorbar\":{\"outlinewidth\":0,\"ticks\":\"\"}}}],\"scatterpolar\":[{\"type\":\"scatterpolar\",\"marker\":{\"colorbar\":{\"outlinewidth\":0,\"ticks\":\"\"}}}],\"histogram\":[{\"marker\":{\"pattern\":{\"fillmode\":\"overlay\",\"size\":10,\"solidity\":0.2}},\"type\":\"histogram\"}],\"scattergl\":[{\"type\":\"scattergl\",\"marker\":{\"colorbar\":{\"outlinewidth\":0,\"ticks\":\"\"}}}],\"scatter3d\":[{\"type\":\"scatter3d\",\"line\":{\"colorbar\":{\"outlinewidth\":0,\"ticks\":\"\"}},\"marker\":{\"colorbar\":{\"outlinewidth\":0,\"ticks\":\"\"}}}],\"scattermapbox\":[{\"type\":\"scattermapbox\",\"marker\":{\"colorbar\":{\"outlinewidth\":0,\"ticks\":\"\"}}}],\"scatterternary\":[{\"type\":\"scatterternary\",\"marker\":{\"colorbar\":{\"outlinewidth\":0,\"ticks\":\"\"}}}],\"scattercarpet\":[{\"type\":\"scattercarpet\",\"marker\":{\"colorbar\":{\"outlinewidth\":0,\"ticks\":\"\"}}}],\"carpet\":[{\"aaxis\":{\"endlinecolor\":\"#2a3f5f\",\"gridcolor\":\"white\",\"linecolor\":\"white\",\"minorgridcolor\":\"white\",\"startlinecolor\":\"#2a3f5f\"},\"baxis\":{\"endlinecolor\":\"#2a3f5f\",\"gridcolor\":\"white\",\"linecolor\":\"white\",\"minorgridcolor\":\"white\",\"startlinecolor\":\"#2a3f5f\"},\"type\":\"carpet\"}],\"table\":[{\"cells\":{\"fill\":{\"color\":\"#EBF0F8\"},\"line\":{\"color\":\"white\"}},\"header\":{\"fill\":{\"color\":\"#C8D4E3\"},\"line\":{\"color\":\"white\"}},\"type\":\"table\"}],\"barpolar\":[{\"marker\":{\"line\":{\"color\":\"#E5ECF6\",\"width\":0.5},\"pattern\":{\"fillmode\":\"overlay\",\"size\":10,\"solidity\":0.2}},\"type\":\"barpolar\"}],\"pie\":[{\"automargin\":true,\"type\":\"pie\"}]},\"layout\":{\"autotypenumbers\":\"strict\",\"colorway\":[\"#636efa\",\"#EF553B\",\"#00cc96\",\"#ab63fa\",\"#FFA15A\",\"#19d3f3\",\"#FF6692\",\"#B6E880\",\"#FF97FF\",\"#FECB52\"],\"font\":{\"color\":\"#2a3f5f\"},\"hovermode\":\"closest\",\"hoverlabel\":{\"align\":\"left\"},\"paper_bgcolor\":\"white\",\"plot_bgcolor\":\"#E5ECF6\",\"polar\":{\"bgcolor\":\"#E5ECF6\",\"angularaxis\":{\"gridcolor\":\"white\",\"linecolor\":\"white\",\"ticks\":\"\"},\"radialaxis\":{\"gridcolor\":\"white\",\"linecolor\":\"white\",\"ticks\":\"\"}},\"ternary\":{\"bgcolor\":\"#E5ECF6\",\"aaxis\":{\"gridcolor\":\"white\",\"linecolor\":\"white\",\"ticks\":\"\"},\"baxis\":{\"gridcolor\":\"white\",\"linecolor\":\"white\",\"ticks\":\"\"},\"caxis\":{\"gridcolor\":\"white\",\"linecolor\":\"white\",\"ticks\":\"\"}},\"coloraxis\":{\"colorbar\":{\"outlinewidth\":0,\"ticks\":\"\"}},\"colorscale\":{\"sequential\":[[0.0,\"#0d0887\"],[0.1111111111111111,\"#46039f\"],[0.2222222222222222,\"#7201a8\"],[0.3333333333333333,\"#9c179e\"],[0.4444444444444444,\"#bd3786\"],[0.5555555555555556,\"#d8576b\"],[0.6666666666666666,\"#ed7953\"],[0.7777777777777778,\"#fb9f3a\"],[0.8888888888888888,\"#fdca26\"],[1.0,\"#f0f921\"]],\"sequentialminus\":[[0.0,\"#0d0887\"],[0.1111111111111111,\"#46039f\"],[0.2222222222222222,\"#7201a8\"],[0.3333333333333333,\"#9c179e\"],[0.4444444444444444,\"#bd3786\"],[0.5555555555555556,\"#d8576b\"],[0.6666666666666666,\"#ed7953\"],[0.7777777777777778,\"#fb9f3a\"],[0.8888888888888888,\"#fdca26\"],[1.0,\"#f0f921\"]],\"diverging\":[[0,\"#8e0152\"],[0.1,\"#c51b7d\"],[0.2,\"#de77ae\"],[0.3,\"#f1b6da\"],[0.4,\"#fde0ef\"],[0.5,\"#f7f7f7\"],[0.6,\"#e6f5d0\"],[0.7,\"#b8e186\"],[0.8,\"#7fbc41\"],[0.9,\"#4d9221\"],[1,\"#276419\"]]},\"xaxis\":{\"gridcolor\":\"white\",\"linecolor\":\"white\",\"ticks\":\"\",\"title\":{\"standoff\":15},\"zerolinecolor\":\"white\",\"automargin\":true,\"zerolinewidth\":2},\"yaxis\":{\"gridcolor\":\"white\",\"linecolor\":\"white\",\"ticks\":\"\",\"title\":{\"standoff\":15},\"zerolinecolor\":\"white\",\"automargin\":true,\"zerolinewidth\":2},\"scene\":{\"xaxis\":{\"backgroundcolor\":\"#E5ECF6\",\"gridcolor\":\"white\",\"linecolor\":\"white\",\"showbackground\":true,\"ticks\":\"\",\"zerolinecolor\":\"white\",\"gridwidth\":2},\"yaxis\":{\"backgroundcolor\":\"#E5ECF6\",\"gridcolor\":\"white\",\"linecolor\":\"white\",\"showbackground\":true,\"ticks\":\"\",\"zerolinecolor\":\"white\",\"gridwidth\":2},\"zaxis\":{\"backgroundcolor\":\"#E5ECF6\",\"gridcolor\":\"white\",\"linecolor\":\"white\",\"showbackground\":true,\"ticks\":\"\",\"zerolinecolor\":\"white\",\"gridwidth\":2}},\"shapedefaults\":{\"line\":{\"color\":\"#2a3f5f\"}},\"annotationdefaults\":{\"arrowcolor\":\"#2a3f5f\",\"arrowhead\":0,\"arrowwidth\":1},\"geo\":{\"bgcolor\":\"white\",\"landcolor\":\"#E5ECF6\",\"subunitcolor\":\"white\",\"showland\":true,\"showlakes\":true,\"lakecolor\":\"white\"},\"title\":{\"x\":0.05},\"mapbox\":{\"style\":\"light\"}}},\"mapbox\":{\"domain\":{\"x\":[0.0,1.0],\"y\":[0.0,1.0]},\"center\":{\"lat\":7.153069860908572,\"lon\":-73.09930194852788},\"zoom\":10,\"style\":\"open-street-map\"},\"coloraxis\":{\"colorbar\":{\"title\":{\"text\":\"Nota\"}},\"colorscale\":[[0.0,\"#440154\"],[0.1111111111111111,\"#482878\"],[0.2222222222222222,\"#3e4989\"],[0.3333333333333333,\"#31688e\"],[0.4444444444444444,\"#26828e\"],[0.5555555555555556,\"#1f9e89\"],[0.6666666666666666,\"#35b779\"],[0.7777777777777778,\"#6ece58\"],[0.8888888888888888,\"#b5de2b\"],[1.0,\"#fde725\"]],\"cmin\":1,\"cmax\":5},\"legend\":{\"tracegroupgap\":0},\"margin\":{\"t\":0,\"r\":0,\"l\":0,\"b\":0},\"height\":600,\"sliders\":[{\"active\":0,\"currentvalue\":{\"prefix\":\"Nota: \"},\"pad\":{\"t\":50},\"steps\":[{\"args\":[{\"visible\":[true,true,false,true,false,true,false,false,false,false,true,false,true,false,false,false,false,false,true,false,true,false,true,false,false,true,true,false,false,false,true,false,true,false,false,false,false,true,false,false,false,false,false,true,false,false,false,false,false,false,false,false,false,false,false,false,false,true,false,false,false,false,true,false,true,false,false,true,false,false,false,false,false,true,false,false,false,false,false,false,false,true,false,false,false,false,false,true,false,false,false,false,false,false,false,false,false,false,true,false]}],\"label\":\"2\",\"method\":\"update\"},{\"args\":[{\"visible\":[false,false,true,false,false,false,false,false,false,true,false,false,false,false,false,false,false,false,false,true,false,false,false,false,true,false,false,true,false,true,false,true,false,false,false,false,false,false,true,false,false,false,false,false,false,false,false,false,false,false,true,false,false,false,false,false,false,false,false,true,true,false,false,false,false,false,false,false,false,false,false,false,false,false,false,false,false,false,false,true,false,false,false,false,false,false,true,false,false,false,false,false,true,false,true,false,true,false,false,false]}],\"label\":\"3\",\"method\":\"update\"},{\"args\":[{\"visible\":[false,false,false,false,true,false,false,true,true,false,false,true,false,false,false,false,false,false,false,false,false,true,false,false,false,false,false,false,false,false,false,false,false,true,false,false,false,false,false,false,true,false,false,false,true,true,false,true,true,false,false,false,false,false,true,false,false,false,false,false,false,false,false,true,false,true,false,false,false,true,false,false,false,false,false,false,true,false,false,false,false,false,false,false,true,false,false,false,false,false,false,true,false,false,false,false,false,true,false,true]}],\"label\":\"5\",\"method\":\"update\"},{\"args\":[{\"visible\":[false,false,false,false,false,false,true,false,false,false,false,false,false,false,false,true,true,false,false,false,false,false,false,true,false,false,false,false,false,false,false,false,false,false,false,false,true,false,false,false,false,true,false,false,false,false,true,false,false,false,false,false,true,true,false,true,false,false,true,false,false,false,false,false,false,false,true,false,false,false,false,true,false,false,false,false,false,true,true,false,true,false,false,false,false,false,false,false,false,false,true,false,false,true,false,true,false,false,false,false]}],\"label\":\"1\",\"method\":\"update\"},{\"args\":[{\"visible\":[false,false,false,false,false,false,false,false,false,false,false,false,false,true,true,false,false,true,false,false,false,false,false,false,false,false,false,false,true,false,false,false,false,false,true,true,false,false,false,true,false,false,true,false,false,false,false,false,false,true,false,true,false,false,false,false,true,false,false,false,false,true,false,false,false,false,false,false,true,false,true,false,true,false,true,true,false,false,false,false,false,false,true,true,false,true,false,false,true,true,false,false,false,false,false,false,false,false,false,false]}],\"label\":\"4\",\"method\":\"update\"}]}]},                        {\"responsive\": true}                    ).then(function(){\n",
              "                            \n",
              "var gd = document.getElementById('21bbf934-5e95-4fb2-9b85-1bb633ef468f');\n",
              "var x = new MutationObserver(function (mutations, observer) {{\n",
              "        var display = window.getComputedStyle(gd).display;\n",
              "        if (!display || display === 'none') {{\n",
              "            console.log([gd, 'removed!']);\n",
              "            Plotly.purge(gd);\n",
              "            observer.disconnect();\n",
              "        }}\n",
              "}});\n",
              "\n",
              "// Listen for the removal of the full notebook cells\n",
              "var notebookContainer = gd.closest('#notebook-container');\n",
              "if (notebookContainer) {{\n",
              "    x.observe(notebookContainer, {childList: true});\n",
              "}}\n",
              "\n",
              "// Listen for the clearing of the current output cell\n",
              "var outputEl = gd.closest('.output');\n",
              "if (outputEl) {{\n",
              "    x.observe(outputEl, {childList: true});\n",
              "}}\n",
              "\n",
              "                        })                };                            </script>        </div>\n",
              "</body>\n",
              "</html>"
            ]
          },
          "metadata": {}
        }
      ]
    },
    {
      "cell_type": "markdown",
      "source": [
        "## <font color=\"red\">5.5 Visualización de Nuevas Características\n",
        "### <font color=\"blue\">5.5.1 Gráfico de características temporales y relaciones\n"
      ],
      "metadata": {
        "id": "ynnqul4OGAVa"
      }
    },
    {
      "cell_type": "code",
      "source": [
        "import seaborn as sns\n",
        "import matplotlib.pyplot as plt\n",
        "\n",
        "# Gráfico de Total por Mes\n",
        "sns.barplot(x=\"Mes\", y=\"Total\", data=data)\n",
        "plt.title(\"Total de Ventas por Mes\")\n",
        "plt.show()\n"
      ],
      "metadata": {
        "collapsed": true,
        "colab": {
          "base_uri": "https://localhost:8080/",
          "height": 472
        },
        "id": "PV8rgAeuGFui",
        "outputId": "841105c0-1495-4891-ec78-9ad830104267"
      },
      "execution_count": null,
      "outputs": [
        {
          "output_type": "display_data",
          "data": {
            "text/plain": [
              "<Figure size 640x480 with 1 Axes>"
            ],
            "image/png": "[encoded data removed]"
          },
          "metadata": {}
        }
      ]
    },
    {
      "cell_type": "markdown",
      "source": [
        "### <font color=\"blue\">5.5.2 Gráfico de distribución geoespacial\n"
      ],
      "metadata": {
        "id": "uomni15xGIWy"
      }
    },
    {
      "cell_type": "code",
      "source": [
        "# Gráfico de puntos geográficos\n",
        "sns.scatterplot(x=\"Longitud\", y=\"Latitud\", size=\"Distancia_km\", data=data_geo, legend=False)\n",
        "plt.title(\"Distribución Geoespacial\")\n",
        "plt.show()\n"
      ],
      "metadata": {
        "collapsed": true,
        "colab": {
          "base_uri": "https://localhost:8080/",
          "height": 472
        },
        "id": "xuB4cUSQGK6i",
        "outputId": "459e1c42-3693-45d4-fd9e-8b74fd2fe638"
      },
      "execution_count": null,
      "outputs": [
        {
          "output_type": "display_data",
          "data": {
            "text/plain": [
              "<Figure size 640x480 with 1 Axes>"
            ],
            "image/png": "[encoded data removed]"
          },
          "metadata": {}
        }
      ]
    }
  ]
}