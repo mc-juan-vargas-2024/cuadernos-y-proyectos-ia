{
  "nbformat": 4,
  "nbformat_minor": 0,
  "metadata": {
    "colab": {
      "provenance": [],
      "include_colab_link": true
    },
    "kernelspec": {
      "name": "python3",
      "display_name": "Python 3"
    },
    "language_info": {
      "name": "python"
    }
  },
  "cells": [
    {
      "cell_type": "markdown",
      "metadata": {
        "id": "view-in-github",
        "colab_type": "text"
      },
      "source": [
        "<a href=\"https://colab.research.google.com/github/mc-juan-vargas-2024/cuadernos-y-proyectos-ia/blob/main/Fundamento_Cuaderno_6_Selecci%C3%B3n_de_Caracter%C3%ADsticas.ipynb\" target=\"_parent\"><img src=\"https://colab.research.google.com/assets/colab-badge.svg\" alt=\"Open In Colab\"/></a>"
      ]
    },
    {
      "cell_type": "markdown",
      "source": [
        "# <font color=\"red\">Cuaderno 6: Selección de Características\n",
        "La selección de características es una técnica fundamental en el preprocesamiento de datos que busca identificar las características más relevantes para un modelo de machine learning. Este proceso tiene como objetivo reducir la complejidad del modelo, mejorar su interpretabilidad, evitar el sobreajuste y reducir los tiempos de entrenamiento. En esta sesión, exploraremos diversos métodos de selección de características, desde enfoques estadísticos hasta técnicas automáticas y basadas en regularización.\n",
        "\n",
        "\n",
        "---\n",
        "## <font color=\"red\">6.1 ¿Qué es la Selección de Características?\n",
        "La selección de características es el proceso de elegir un subconjunto de las variables originales del dataset que sea más relevante para el problema que se quiere resolver. Al reducir el número de características, se mejora la eficiencia del modelo y se facilita su interpretación. Además, se puede evitar el sobreajuste, donde el modelo se ajusta demasiado a los datos de entrenamiento y no generaliza bien a nuevos datos.\n",
        "### Importancia de la selección de características:\n",
        "* Mejora la precisión y la generalización del modelo.\n",
        "* Reduce la complejidad computacional.\n",
        "* Elimina la redundancia en los datos.\n",
        "* Facilita la interpretación del modelo.\n",
        "\n",
        "\n",
        "---\n",
        "## <font color=\"red\">6.2 Métodos de Selección Basados en Estadística\n",
        "Existen varios métodos estadísticos que ayudan a seleccionar las características más relevantes. Algunos de los más comunes son:\n",
        "### <font color=\"blue\">6.2.1 Selección de Baja Varianza\n",
        "Las características con muy baja varianza aportan poca información al modelo, ya que no varían significativamente entre las observaciones. Por lo tanto, estas características pueden ser eliminadas.\n",
        "\n"
      ],
      "metadata": {
        "id": "VHjdKZQqGl_z"
      }
    },
    {
      "cell_type": "code",
      "execution_count": null,
      "metadata": {
        "id": "F2W9XKFXGf23",
        "colab": {
          "base_uri": "https://localhost:8080/",
          "height": 178
        },
        "outputId": "1457d111-2001-4a6f-c7f0-e9598d8b3ac1"
      },
      "outputs": [
        {
          "output_type": "execute_result",
          "data": {
            "text/plain": [
              "Edad        0.8\n",
              "Peso      670.0\n",
              "Altura    145.0\n",
              "dtype: float64"
            ],
            "text/html": [
              "<div>\n",
              "<style scoped>\n",
              "    .dataframe tbody tr th:only-of-type {\n",
              "        vertical-align: middle;\n",
              "    }\n",
              "\n",
              "    .dataframe tbody tr th {\n",
              "        vertical-align: top;\n",
              "    }\n",
              "\n",
              "    .dataframe thead th {\n",
              "        text-align: right;\n",
              "    }\n",
              "</style>\n",
              "<table border=\"1\" class=\"dataframe\">\n",
              "  <thead>\n",
              "    <tr style=\"text-align: right;\">\n",
              "      <th></th>\n",
              "      <th>0</th>\n",
              "    </tr>\n",
              "  </thead>\n",
              "  <tbody>\n",
              "    <tr>\n",
              "      <th>Edad</th>\n",
              "      <td>0.8</td>\n",
              "    </tr>\n",
              "    <tr>\n",
              "      <th>Peso</th>\n",
              "      <td>670.0</td>\n",
              "    </tr>\n",
              "    <tr>\n",
              "      <th>Altura</th>\n",
              "      <td>145.0</td>\n",
              "    </tr>\n",
              "  </tbody>\n",
              "</table>\n",
              "</div><br><label><b>dtype:</b> float64</label>"
            ]
          },
          "metadata": {},
          "execution_count": 6
        }
      ],
      "source": [
        "from sklearn.feature_selection import VarianceThreshold\n",
        "import pandas as pd\n",
        "\n",
        "# Datos de ejemplo\n",
        "X = [[10, 80, 160], [10, 40, 165], [10, 70, 170], [12, 90, 180], [10, 30, 190]]\n",
        "X=pd.DataFrame(X, columns=[\"Edad\",\"Peso\",\"Altura\"])\n",
        "X\n",
        "\n",
        "X.var()"
      ]
    },
    {
      "cell_type": "code",
      "source": [
        "# Eliminar características con baja varianza (por defecto, umbral de 01\n",
        "selector = VarianceThreshold(threshold=2)\n",
        "X_new = selector.fit_transform(X)"
      ],
      "metadata": {
        "id": "AlDwlJJq14kZ"
      },
      "execution_count": null,
      "outputs": []
    },
    {
      "cell_type": "code",
      "source": [
        "print(selector.get_support())\n"
      ],
      "metadata": {
        "colab": {
          "base_uri": "https://localhost:8080/"
        },
        "id": "3Ku4OXbC1rL3",
        "outputId": "af061764-a4a4-4864-ab8a-99fbb5f95f46"
      },
      "execution_count": null,
      "outputs": [
        {
          "output_type": "stream",
          "name": "stdout",
          "text": [
            "[False  True  True]\n"
          ]
        }
      ]
    },
    {
      "cell_type": "code",
      "source": [
        "print(selector.feature_names_in_)"
      ],
      "metadata": {
        "colab": {
          "base_uri": "https://localhost:8080/"
        },
        "id": "0dhZHV0x2Eg9",
        "outputId": "e31957f5-1bd3-4126-acce-eeb546d01ce1"
      },
      "execution_count": null,
      "outputs": [
        {
          "output_type": "stream",
          "name": "stdout",
          "text": [
            "['Edad' 'Peso' 'Altura']\n"
          ]
        }
      ]
    },
    {
      "cell_type": "code",
      "source": [
        "print(selector.get_feature_names_out())"
      ],
      "metadata": {
        "colab": {
          "base_uri": "https://localhost:8080/"
        },
        "id": "WdrM_knZ2JLG",
        "outputId": "06c80662-4bd9-4237-e8ad-0a291fd22151"
      },
      "execution_count": null,
      "outputs": [
        {
          "output_type": "stream",
          "name": "stdout",
          "text": [
            "['Peso' 'Altura']\n"
          ]
        }
      ]
    },
    {
      "cell_type": "code",
      "source": [
        "\n",
        "print(\"Características seleccionadas:\\n\", pd.DataFrame(X_new,columns=selector.get_feature_names_out()))"
      ],
      "metadata": {
        "colab": {
          "base_uri": "https://localhost:8080/"
        },
        "id": "P0hdXUWu136D",
        "outputId": "f7d68dea-bb3d-4a12-d170-0322ada1b460"
      },
      "execution_count": null,
      "outputs": [
        {
          "output_type": "stream",
          "name": "stdout",
          "text": [
            "Características seleccionadas:\n",
            "    Peso  Altura\n",
            "0    80     160\n",
            "1    40     165\n",
            "2    70     170\n",
            "3    90     180\n",
            "4    30     190\n"
          ]
        }
      ]
    },
    {
      "cell_type": "markdown",
      "source": [
        "### <font color=\"blue\">6.2.2 Selección mediante Chi-cuadrado (Chi-Squared Test)\n",
        "El test de Chi-cuadrado se utiliza para evaluar la independencia de una variable categórica respecto a las demás. Este test mide la diferencia entre la frecuencia observada y la esperada de las variables.\n"
      ],
      "metadata": {
        "id": "dyL9a_jWHSrJ"
      }
    },
    {
      "cell_type": "markdown",
      "source": [
        "Este código realiza selección de características en un conjunto de datos, eligiendo las 10 mejores variables que tienen más relación con la variable objetivo (y) utilizando el test Chi-cuadrado.\n"
      ],
      "metadata": {
        "id": "j3_6sX-d25iC"
      }
    },
    {
      "cell_type": "code",
      "source": [
        "import numpy as np\n",
        "import pandas as pd\n",
        "from sklearn.feature_selection import SelectKBest, chi2\n",
        "\n",
        "# Datos simulados\n",
        "X = np.array([[5, 20, 30, 0, 1],\n",
        "              [10, 15, 25, 1, 0],\n",
        "              [7, 18, 27, 0, 1],\n",
        "              [6, 21, 32, 1, 0],\n",
        "              [9, 16, 29, 0, 1]])\n",
        "\n",
        "y = np.array([1, 0, 1, 0, 1])  # Variable objetivo (compra o no)\n"
      ],
      "metadata": {
        "collapsed": true,
        "id": "doe1WmjOHYzK"
      },
      "execution_count": null,
      "outputs": []
    },
    {
      "cell_type": "code",
      "source": [
        "#Número columnas\n",
        "X.shape[1]"
      ],
      "metadata": {
        "colab": {
          "base_uri": "https://localhost:8080/"
        },
        "id": "nl4mZlB13WPo",
        "outputId": "f1f094a8-4688-4b84-fa23-5a3e60d4862f"
      },
      "execution_count": null,
      "outputs": [
        {
          "output_type": "execute_result",
          "data": {
            "text/plain": [
              "5"
            ]
          },
          "metadata": {},
          "execution_count": 21
        }
      ]
    },
    {
      "cell_type": "code",
      "source": [
        "# Selección de las 3 mejores características (en este caso k=3)\n",
        "selector = SelectKBest(chi2, k=3)\n",
        "X_new = selector.fit_transform(X, y)\n",
        "\n",
        "# Imprimir resultados\n",
        "print(\"Características seleccionadas:\", selector.get_support())\n",
        "print(\"Nuevo conjunto de datos:\")\n",
        "print(X_new)\n"
      ],
      "metadata": {
        "colab": {
          "base_uri": "https://localhost:8080/"
        },
        "id": "q5WaQQ2k3UXZ",
        "outputId": "1812ebb1-f4e7-4abd-f3be-0ff25167380f"
      },
      "execution_count": null,
      "outputs": [
        {
          "output_type": "stream",
          "name": "stdout",
          "text": [
            "Características seleccionadas: [ True False False  True  True]\n",
            "Nuevo conjunto de datos:\n",
            "[[ 5  0  1]\n",
            " [10  1  0]\n",
            " [ 7  0  1]\n",
            " [ 6  1  0]\n",
            " [ 9  0  1]]\n"
          ]
        }
      ]
    },
    {
      "cell_type": "code",
      "source": [
        "X_new.shape[1]"
      ],
      "metadata": {
        "colab": {
          "base_uri": "https://localhost:8080/"
        },
        "id": "PI8YGvwU3qz-",
        "outputId": "f66089c9-7a68-40a4-f49c-661425e03c50"
      },
      "execution_count": null,
      "outputs": [
        {
          "output_type": "execute_result",
          "data": {
            "text/plain": [
              "3"
            ]
          },
          "metadata": {},
          "execution_count": 23
        }
      ]
    },
    {
      "cell_type": "markdown",
      "source": [
        "### <font color=\"blue\">6.2.3 Pruebas Estadísticas (ANOVA, T-Tests, etc.)\n",
        "Otras pruebas estadísticas como el test ANOVA o el T-test pueden ser utilizadas para comparar las medias entre diferentes grupos y determinar si una característica tiene un impacto significativo sobre la variable objetivo. Este tipos de pruebas no serán cubiertos por este curso.\n",
        "\n",
        "\n",
        "---\n",
        "\n",
        "## <font color=\"red\">6.3 Métodos Automáticos de Selección de Características\n",
        "### <font color=\"blue\">6.3.1 Selección Hacia Adelante (Forward Selection)\n",
        "Este es un enfoque progresivo en el que comenzamos con un conjunto vacío de características y, en cada paso, añadimos la característica que mejora más el rendimiento del modelo.\n",
        "\n",
        "Tanto Forward Selection como Backward Elimination son métodos de selección de características utilizados para reducir la dimensionalidad y mejorar el rendimiento de los modelos.\n",
        "\n",
        "📌 Diferencia principal:\n",
        "\n",
        "**Forward Selection:** Empieza con ninguna característica y va agregando las más relevantes.\n",
        "\n",
        "**Backward Elimination:** Empieza con todas las características y va eliminando las menos importantes.\n"
      ],
      "metadata": {
        "id": "vM74IiQ2HdQh"
      }
    },
    {
      "cell_type": "code",
      "source": [
        "from sklearn.feature_selection import RFE\n",
        "from sklearn.linear_model import LinearRegression\n",
        "from sklearn.datasets import load_digits\n",
        "\n",
        "# Datos de ejemplo\n",
        "X, y = load_digits(return_X_y=True)\n",
        "\n",
        "X.shape\n"
      ],
      "metadata": {
        "colab": {
          "base_uri": "https://localhost:8080/"
        },
        "collapsed": true,
        "id": "-etl88sJHxgD",
        "outputId": "c999f904-05a3-4eb2-f5e9-1e3a037bc8d1"
      },
      "execution_count": null,
      "outputs": [
        {
          "output_type": "execute_result",
          "data": {
            "text/plain": [
              "(1797, 64)"
            ]
          },
          "metadata": {},
          "execution_count": 41
        }
      ]
    },
    {
      "cell_type": "code",
      "source": [
        "y"
      ],
      "metadata": {
        "colab": {
          "base_uri": "https://localhost:8080/"
        },
        "id": "E5MSqX4A7v0c",
        "outputId": "bfad9253-5381-4da2-ae4d-ad3e4f19200d"
      },
      "execution_count": null,
      "outputs": [
        {
          "output_type": "execute_result",
          "data": {
            "text/plain": [
              "array([0, 1, 2, ..., 8, 9, 8])"
            ]
          },
          "metadata": {},
          "execution_count": 42
        }
      ]
    },
    {
      "cell_type": "code",
      "source": [
        "# Selección hacia adelante utilizando RFE\n",
        "model = LinearRegression()\n",
        "model.fit(X, y)\n",
        "model.coef_"
      ],
      "metadata": {
        "colab": {
          "base_uri": "https://localhost:8080/"
        },
        "id": "m2rjuYFy4mgG",
        "outputId": "9af8b96f-5b04-4e4e-9657-433dc5877e20"
      },
      "execution_count": null,
      "outputs": [
        {
          "output_type": "execute_result",
          "data": {
            "text/plain": [
              "array([-5.75781288e-16,  8.57923376e-02, -1.00949621e-02, -2.83075186e-02,\n",
              "        5.82128113e-02, -4.65962898e-03, -3.46872516e-02, -5.54517203e-03,\n",
              "        1.17575413e+00, -2.72886589e-02,  1.03489006e-01,  4.39751669e-02,\n",
              "       -6.55655744e-02, -7.42239599e-02,  8.77174597e-02,  2.37097336e-01,\n",
              "       -9.21515850e-01,  2.09262966e-02,  7.90783605e-02, -3.13505587e-02,\n",
              "       -6.74572273e-02,  4.84382828e-02, -5.51371084e-02, -2.58541429e-01,\n",
              "       -8.99034170e-01, -1.57869617e-01,  3.73065417e-02,  8.46264203e-02,\n",
              "        7.20498433e-02,  9.39294415e-02, -1.92571119e-02, -2.80099726e+00,\n",
              "        2.52575738e-15, -1.57318573e-01, -2.05647288e-02,  1.35531204e-01,\n",
              "       -4.56698698e-02,  3.50931490e-02, -1.03113414e-02, -1.11022302e-15,\n",
              "        1.33616091e-01,  1.10960304e-01, -1.73050733e-02, -6.61512753e-03,\n",
              "        1.12607142e-01,  5.58271849e-02,  9.23827312e-03,  9.82819205e-02,\n",
              "        6.02436261e-01,  2.73519707e-02, -5.74530483e-03, -6.65091904e-02,\n",
              "       -2.06505662e-01, -4.09517963e-02,  1.04008450e-01, -1.47742618e-01,\n",
              "       -1.24573828e+00, -1.38545269e-01,  8.29622004e-03, -6.17605438e-02,\n",
              "       -6.54155098e-03, -7.92150871e-02, -2.91475790e-03, -5.47127161e-02])"
            ]
          },
          "metadata": {},
          "execution_count": 55
        }
      ]
    },
    {
      "cell_type": "code",
      "source": [
        "# Aplicar RFE para seleccionar las 5 mejores características\n",
        "selector = RFE(model, n_features_to_select=10)\n",
        "selector = selector.fit(X, y)"
      ],
      "metadata": {
        "id": "HT3flcQ195w4"
      },
      "execution_count": null,
      "outputs": []
    },
    {
      "cell_type": "code",
      "source": [
        "print(\"Características seleccionadas:\\n\", selector.support_)"
      ],
      "metadata": {
        "colab": {
          "base_uri": "https://localhost:8080/"
        },
        "id": "OSQoIcr_4V4D",
        "outputId": "8176e264-614d-49f1-9572-2f7f664ad9ae"
      },
      "execution_count": null,
      "outputs": [
        {
          "output_type": "stream",
          "name": "stdout",
          "text": [
            "Características seleccionadas:\n",
            " [False False False False False False False False  True False False False\n",
            " False False False  True  True False False False False False False False\n",
            "  True False False False  True False False  True False False False False\n",
            " False False False False  True False False False False False False False\n",
            "  True False False False  True False False False  True False False False\n",
            " False False False False]\n"
          ]
        }
      ]
    },
    {
      "cell_type": "code",
      "source": [
        "selector.get_feature_names_out()"
      ],
      "metadata": {
        "colab": {
          "base_uri": "https://localhost:8080/"
        },
        "id": "dbstu2zB4Qbm",
        "outputId": "b36efa6c-103b-4152-a50e-1746d0caf028"
      },
      "execution_count": null,
      "outputs": [
        {
          "output_type": "execute_result",
          "data": {
            "text/plain": [
              "array(['x8', 'x16', 'x24', 'x31', 'x56'], dtype=object)"
            ]
          },
          "metadata": {},
          "execution_count": 51
        }
      ]
    },
    {
      "cell_type": "code",
      "source": [
        "selector.get_params()"
      ],
      "metadata": {
        "colab": {
          "base_uri": "https://localhost:8080/"
        },
        "id": "vS_68nH78MjL",
        "outputId": "4f8cbbcc-62ef-4968-f11c-f36fc91196c1"
      },
      "execution_count": null,
      "outputs": [
        {
          "output_type": "execute_result",
          "data": {
            "text/plain": [
              "{'estimator__copy_X': True,\n",
              " 'estimator__fit_intercept': True,\n",
              " 'estimator__n_jobs': None,\n",
              " 'estimator__positive': False,\n",
              " 'estimator': LinearRegression(),\n",
              " 'importance_getter': 'auto',\n",
              " 'n_features_to_select': 5,\n",
              " 'step': 1,\n",
              " 'verbose': 0}"
            ]
          },
          "metadata": {},
          "execution_count": 54
        }
      ]
    },
    {
      "cell_type": "markdown",
      "source": [
        "### <font color=\"blue\">6.3.2 Selección Hacia Atrás (Backward Elimination)\n",
        "En este enfoque, comenzamos con todas las características y, en cada paso, eliminamos la característica que tenga el menor impacto en el rendimiento del modelo.\n"
      ],
      "metadata": {
        "id": "RHBv04EfH1Ng"
      }
    },
    {
      "cell_type": "code",
      "source": [
        "# Selección hacia atrás utilizando RFE\n",
        "selector = RFE(model, n_features_to_select=5, step=1)\n",
        "selector = selector.fit(X, y)\n",
        "\n",
        "print(\"Características seleccionadas:\\n\", selector.support_)\n"
      ],
      "metadata": {
        "colab": {
          "base_uri": "https://localhost:8080/"
        },
        "collapsed": true,
        "id": "SNa0NEkSH53o",
        "outputId": "ca8a0431-54b4-4141-c916-753452012d32"
      },
      "execution_count": null,
      "outputs": [
        {
          "output_type": "stream",
          "name": "stdout",
          "text": [
            "Características seleccionadas: [False False False False False False  True False False False False False\n",
            " False False False False False False False False False False  True False\n",
            " False False False False False False False False False  True False False\n",
            " False False  True False False False False False False False False False\n",
            " False False False False False False False False False False False False\n",
            " False False  True False]\n"
          ]
        }
      ]
    },
    {
      "cell_type": "code",
      "source": [
        "selector.get_feature_names_out()"
      ],
      "metadata": {
        "colab": {
          "base_uri": "https://localhost:8080/"
        },
        "id": "ueWOM1bg47B9",
        "outputId": "d59f1ed5-45a7-4e71-f2d9-10c1303e2319"
      },
      "execution_count": null,
      "outputs": [
        {
          "output_type": "execute_result",
          "data": {
            "text/plain": [
              "array(['x6', 'x22', 'x33', 'x38', 'x62'], dtype=object)"
            ]
          },
          "metadata": {},
          "execution_count": 32
        }
      ]
    },
    {
      "cell_type": "markdown",
      "source": [
        "## <font color=\"red\">6.4 Regularización para Selección de Características\n",
        "La regularización es una técnica utilizada para reducir el sobreajuste en los modelos y puede ser aplicada para la selección de características. Se añaden penalizaciones a los coeficientes del modelo, lo que lleva a que algunas características sean eliminadas durante el entrenamiento.\n",
        "### <font color=\"blue\">6.4.1 Lasso (L1 Regularización)\n",
        "El Lasso utiliza la penalización L1, que tiende a llevar los coeficientes de las características menos relevantes a cero, eliminándolas efectivamente del modelo.\n"
      ],
      "metadata": {
        "id": "L63bdj5IILcx"
      }
    },
    {
      "cell_type": "markdown",
      "source": [
        "Este código utiliza Lasso (L1 Regularization) para entrenar un modelo de regresión y analizar qué características son más importantes en la predicción.\n",
        "\n"
      ],
      "metadata": {
        "id": "3D_mvP57_NRj"
      }
    },
    {
      "cell_type": "code",
      "source": [
        "from sklearn.linear_model import Lasso\n",
        "from sklearn.datasets import make_regression\n",
        "\n",
        "# Crear datos de ejemplo\n",
        "X, y = make_regression(n_samples=100, n_features=10, noise=0.1)\n",
        "\n",
        "# Ajustar el modelo Lasso\n",
        "lasso = Lasso(alpha=0.1)  # La regularización controlada por alpha\n",
        "lasso.fit(X, y)\n",
        "\n",
        "print(\"Coeficientes seleccionados por Lasso:\", lasso.coef_)\n"
      ],
      "metadata": {
        "colab": {
          "base_uri": "https://localhost:8080/"
        },
        "collapsed": true,
        "id": "GgKGnMfjIa-p",
        "outputId": "f0a2aa55-f7a4-4453-f4b7-8a17c44b96c8"
      },
      "execution_count": null,
      "outputs": [
        {
          "output_type": "stream",
          "name": "stdout",
          "text": [
            "Coeficientes seleccionados por Lasso: [76.91794675 28.25497443 52.45792284 25.4999109  26.29010598  4.71361178\n",
            " 82.16252971 73.08298537 33.09923363 53.99740392]\n"
          ]
        }
      ]
    },
    {
      "cell_type": "markdown",
      "source": [
        "### <font color=\"blue\">6.4.2 Ridge (L2 Regularización)\n",
        "La regularización Ridge utiliza una penalización L2, que reduce la magnitud de los coeficientes pero no los lleva a cero. A pesar de no eliminar completamente las características, puede ser útil para manejar la multicolinealidad.\n"
      ],
      "metadata": {
        "id": "nrKo57lQIbeA"
      }
    },
    {
      "cell_type": "code",
      "source": [
        "from sklearn.linear_model import Ridge\n",
        "\n",
        "# Ajustar el modelo Ridge\n",
        "ridge = Ridge(alpha=0.1)\n",
        "ridge.fit(X, y)\n",
        "\n",
        "print(\"Coeficientes seleccionados por Ridge:\", ridge.coef_)\n"
      ],
      "metadata": {
        "colab": {
          "base_uri": "https://localhost:8080/"
        },
        "collapsed": true,
        "id": "9YPaKKdVIiA4",
        "outputId": "c207a738-f1b2-40d9-cb84-c863c75ea5de"
      },
      "execution_count": null,
      "outputs": [
        {
          "output_type": "stream",
          "name": "stdout",
          "text": [
            "Coeficientes seleccionados por Ridge: [76.92693893 28.32436001 52.50482689 25.5868141  26.33958905  4.80431124\n",
            " 82.19549854 73.11811076 33.18306639 54.03445227]\n"
          ]
        }
      ]
    },
    {
      "cell_type": "markdown",
      "source": [
        "### <font color=\"blue\">6.4.3 Elastic Net\n",
        "Elastic Net es una combinación de Lasso y Ridge, que permite aprovechar las ventajas de ambos. Es útil cuando hay muchas características correlacionadas entre sí.\n"
      ],
      "metadata": {
        "id": "ovnZUVVSIjEQ"
      }
    },
    {
      "cell_type": "code",
      "source": [
        "from sklearn.linear_model import ElasticNet\n",
        "\n",
        "# Ajustar el modelo Elastic Net\n",
        "elastic_net = ElasticNet(alpha=0.1, l1_ratio=0.5)  # L1 y L2 combinados\n",
        "elastic_net.fit(X, y)\n",
        "\n",
        "print(\"Coeficientes seleccionados por Elastic Net:\", elastic_net.coef_)\n"
      ],
      "metadata": {
        "colab": {
          "base_uri": "https://localhost:8080/"
        },
        "collapsed": true,
        "id": "uH3dOLmcIoEY",
        "outputId": "e8c6ed83-a82e-4836-98c7-3edbe60208b6"
      },
      "execution_count": null,
      "outputs": [
        {
          "output_type": "stream",
          "name": "stdout",
          "text": [
            "Coeficientes seleccionados por Elastic Net: [72.7671119  26.36532137 49.67712703 24.54886137 25.90891868  4.44147465\n",
            " 78.83900107 68.88838301 31.68313296 51.23858562]\n"
          ]
        }
      ]
    },
    {
      "cell_type": "markdown",
      "source": [
        "En este código  probamos diferentes valores de alpha para ver cómo Lasso selecciona características:"
      ],
      "metadata": {
        "id": "Sk42SAH0_wzU"
      }
    },
    {
      "cell_type": "code",
      "source": [
        "import numpy as np\n",
        "import matplotlib.pyplot as plt\n",
        "from sklearn.linear_model import Lasso\n",
        "from sklearn.datasets import make_regression\n",
        "\n",
        "# Generar datos de ejemplo\n",
        "X, y = make_regression(n_samples=100, n_features=10, noise=0.1, random_state=42)\n",
        "\n",
        "# Valores de alpha a probar\n",
        "alpha_values = [0.001, 0.01, 0.1, 1, 10]\n",
        "\n",
        "# Guardar coeficientes para cada alpha\n",
        "coef_matrix = []\n",
        "\n",
        "# Entrenar Lasso con diferentes valores de alpha\n",
        "for alpha in alpha_values:\n",
        "    lasso = Lasso(alpha=alpha)\n",
        "    lasso.fit(X, y)\n",
        "    coef_matrix.append(lasso.coef_)\n",
        "    print(f\"Alpha: {alpha}\")\n",
        "    print(\"Coeficientes:\", lasso.coef_)\n",
        "    print(\"Número de coeficientes distintos de 0:\", np.sum(lasso.coef_ != 0))\n",
        "    print(\"-\" * 50)\n",
        "\n",
        "# Convertir la matriz de coeficientes a un array de NumPy\n",
        "coef_matrix = np.array(coef_matrix)\n",
        "\n",
        "# Graficar la evolución de los coeficientes con distintos valores de alpha\n",
        "plt.figure(figsize=(8, 6))\n",
        "for i in range(X.shape[1]):  # Iterar sobre cada característica\n",
        "    plt.plot(alpha_values, coef_matrix[:, i], marker='o', label=f'Feature {i+1}')\n",
        "\n",
        "plt.xscale(\"log\")  # Escala logarítmica para alpha\n",
        "plt.xlabel(\"Alpha (Regularización)\")\n",
        "plt.ylabel(\"Valor de los coeficientes\")\n",
        "plt.title(\"Efecto de Alpha en los Coeficientes de Lasso\")\n",
        "plt.legend(loc=\"best\")\n",
        "plt.show()\n"
      ],
      "metadata": {
        "colab": {
          "base_uri": "https://localhost:8080/",
          "height": 1000
        },
        "id": "YF9InaHt_u5v",
        "outputId": "46a34da3-285e-4e77-cc83-12c0d5240639"
      },
      "execution_count": null,
      "outputs": [
        {
          "output_type": "stream",
          "name": "stdout",
          "text": [
            "Alpha: 0.001\n",
            "Coeficientes: [16.76375894 54.14161794  5.18126686 63.63603642 93.61567884 70.64107883\n",
            " 87.07879233 10.44048626  3.1633866  70.90292524]\n",
            "Número de coeficientes distintos de 0: 10\n",
            "--------------------------------------------------\n",
            "Alpha: 0.01\n",
            "Coeficientes: [16.75350189 54.13404499  5.1666494  63.63004324 93.6023436  70.63725359\n",
            " 87.06682312 10.42319969  3.15691617 70.89113928]\n",
            "Número de coeficientes distintos de 0: 10\n",
            "--------------------------------------------------\n",
            "Alpha: 0.1\n",
            "Coeficientes: [16.65093139 54.05831546  5.0204748  63.57011144 93.46899114 70.59900118\n",
            " 86.94713107 10.25033395  3.09221178 70.77327962]\n",
            "Número de coeficientes distintos de 0: 10\n",
            "--------------------------------------------------\n",
            "Alpha: 1\n",
            "Coeficientes: [15.62522638 53.30102011  3.55872878 62.97079342 92.13546662 70.21647709\n",
            " 85.75021056  8.52167658  2.44516794 69.59468307]\n",
            "Número de coeficientes distintos de 0: 10\n",
            "--------------------------------------------------\n",
            "Alpha: 10\n",
            "Coeficientes: [ 6.33277608 44.54264277  0.         55.81077877 81.20611968 64.74126074\n",
            " 76.50424468  0.          0.         58.9701754 ]\n",
            "Número de coeficientes distintos de 0: 7\n",
            "--------------------------------------------------\n"
          ]
        },
        {
          "output_type": "display_data",
          "data": {
            "text/plain": [
              "<Figure size 800x600 with 1 Axes>"
            ],
            "image/png": "[encoded data removed]"
          },
          "metadata": {}
        }
      ]
    }
  ]
}