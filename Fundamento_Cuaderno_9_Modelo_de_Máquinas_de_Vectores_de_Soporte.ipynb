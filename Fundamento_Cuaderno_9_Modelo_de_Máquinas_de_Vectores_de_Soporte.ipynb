{
  "nbformat": 4,
  "nbformat_minor": 0,
  "metadata": {
    "colab": {
      "provenance": [],
      "include_colab_link": true
    },
    "kernelspec": {
      "name": "python3",
      "display_name": "Python 3"
    },
    "language_info": {
      "name": "python"
    }
  },
  "cells": [
    {
      "cell_type": "markdown",
      "metadata": {
        "id": "view-in-github",
        "colab_type": "text"
      },
      "source": [
        "<a href=\"https://colab.research.google.com/github/mc-juan-vargas-2024/cuadernos-y-proyectos-ia/blob/main/Fundamento_Cuaderno_9_Modelo_de_M%C3%A1quinas_de_Vectores_de_Soporte.ipynb\" target=\"_parent\"><img src=\"https://colab.research.google.com/assets/colab-badge.svg\" alt=\"Open In Colab\"/></a>"
      ]
    },
    {
      "cell_type": "markdown",
      "source": [
        "## <font color=\"red\">Cuaderno 9. Modelo de Máquinas de Vectores de Soporte (SVC)\n",
        "Las Máquinas de Vectores de Soporte (SVM, por sus siglas en inglés) son un grupo de modelos de aprendizaje supervisado utilizados principalmente para clasificación (SVC), aunque también pueden aplicarse en problemas de regresión (SVR). El objetivo de una SVM es encontrar un hiperplano que separe las clases de datos de manera óptima.\n",
        "\n",
        "## <font color=\"red\">9.1 Fundamento Matemático de SVM\n",
        "![imagen](https://github.com/adiacla/bigdata/blob/master/svc.jpg?raw=true)\n",
        "\n",
        "Como se observa en la imagen anterior el principio detrás de SVM es encontrar el hiperplano de separación que maximiza el margen entre las diferentes clases (Maximun Margin) . Este margen se define como la distancia entre el hiperplano y los puntos de datos más cercanos de cualquier clase (estos puntos son llamados vectores de soporte- Support Vector).\n",
        "\n",
        "Dado un conjunto de datos con $N$ muestras $\\{(x_1, y_1), (x_2, y_2), ..., (x_N, y_N)\\}$, donde $x_i \\in \\mathbb{R}^n$ son las características (vectores de características) y $y_i \\in \\{-1, 1\\}$ son las clases de salida (para clasificación binaria), el problema es encontrar un hiperplano de la forma:\n",
        "\n",
        "  $w \\cdot x + b = 0$\n",
        "\n",
        "Donde:\n",
        "* w es el vector normal al hiperplano.\n",
        "* b es el sesgo (offset).\n",
        "\n",
        "El margen es la distancia entre el hiperplano y los puntos más cercanos de cada clase. El objetivo de SVM es maximizar el margen. Esto lleva a un problema de optimización que se resuelve con restricciones de la siguiente forma:\n",
        "\n",
        "  $\\text{max} \\quad \\frac{2}{\\|w\\|}$\n",
        "\n",
        "Sujeto a las restricciones de que las muestras sean clasificadas correctamente:\n",
        "\n",
        "$y_i (w \\cdot x_i + b) \\geq 1 \\quad \\forall i$\n",
        "\n",
        "## <font color=\"red\">9.2 Optimización y Resolución\n",
        "El objetivo es maximizar el margen, lo que equivale a minimizar la función de coste siguiente:\n",
        "\n",
        "$J(w, b) = \\frac{1}{2} ||w||^2$\n",
        "\n",
        "\n",
        "Sujeta a las restricciones $y_i (w \\cdot x_i + b) \\geq 1 \\quad \\forall i$.Este es un problema de optimización convexa que puede resolverse utilizando el Método de Lagrange.\n",
        "\n",
        "## <font color=\"red\">9.3 Casos No Lineales (Kernel Trick)\n",
        "El truco del kernel en las máquinas de vectores de soporte (SVM) es una técnica que permite transformar datos no linealmente separables en un espacio de mayor dimensión donde sí puedan ser separados por un hiperplano. Este truco se logra mediante una función de kernel, que aplica una transformación matemática a los datos sin necesidad de calcular explícitamente las nuevas coordenadas en el espacio de mayor dimensión.\n",
        "\n",
        "### <font color=\"blue\">9.3.1 ¿Cómo funciona el truco del kernel?\n",
        "Cuando los datos no son linealmente separables en su espacio original, la idea del truco del kernel es mapear esos datos a un espacio de características de mayor dimensión. En este nuevo espacio, los datos pueden volverse separables, permitiendo que una SVM lineal pueda clasificar los datos correctamente.\n",
        "* Kernel Lineal: No transforma los datos, solo los utiliza en su espacio original.\n",
        "* Kernel Polinómico: Aplica una transformación polinómica a los datos.\n",
        "* Kernel Gaussiano (RBF): Mapea los datos a un espacio de alta dimensión utilizando distancias radiales.\n",
        "\n",
        "#### Ejemplo gráfico\n",
        "\n",
        "![imagen](https://github.com/adiacla/bigdata/blob/master/kernel.jpg?raw=true)\n",
        "\n",
        "Imagine que tienes dos clases de puntos en un plano 2D (como en el gráfico Input Space), y estas clases no son separables por una línea recta. Al aplicar el truco del kernel, transformamos estos puntos en un espacio tridimensional (en el gráfico Features Space), donde los puntos ahora son linealmente separables por un plano.\n",
        "\n",
        "#### Explicación Visual:\n",
        "* Plano 2D (No Linealmente Separables):\n",
        "  * Los puntos de diferentes clases están mezclados y no se pueden separar con una línea recta.\n",
        "* Espacio 3D (Aplicando el Truco del Kernel):\n",
        "  * Al aplicar el truco del kernel, los puntos se transforman en un espacio de tres dimensiones. Ahora, con un plano, se puede separar perfectamente las clases.\n",
        "\n",
        "Este proceso transforma la dificultad de la separación no lineal en un problema más manejable, utilizando técnicas como RBF Kernel o Kernel Polinómico, lo que mejora la capacidad del modelo para clasificar correctamente los datos.\n",
        "\n",
        "### <font color=\"red\">9.4 Implementación del Modelo SVC en Python con Datos de Alumnos\n",
        "\n",
        "En este ejercicio, vamos a utilizar un clasificador de Máquinas de Vectores de Soporte (SVC, por sus siglas en inglés) para predecir el resultado de un estudiante (Aprobado o Reprobado) basado en dos características: las Horas de Estudio y la Asistencia. Los datos con los que vamos a trabajar son categóricos, por lo que antes de entrenar el modelo, utilizaremos un Label Encoder para convertir las categorías en valores numéricos.\n",
        "\n",
        "El algoritmo SVC (Support Vector Classifier de https://scikit-learn.org/stable/modules/generated/sklearn.svm.SVC.html) es una técnica de aprendizaje supervisado que busca encontrar el mejor hiperplano que separa las clases en el espacio de características. En este caso, utilizaremos un kernel lineal, lo que significa que asumimos que los datos son linealmente separables.\n",
        "\n",
        "#### Explicación del Código\n",
        "* Conjunto de Datos: Se crea un pequeño conjunto de datos con las características \"Horas de Estudio\", \"Asistencia\" y la etiqueta de \"Resultado\" (Sí/No). Los datos originales son categóricos.\n",
        "* Codificación de Características: Utilizamos LabelEncoder para transformar las variables categóricas en números. Esto es necesario porque los algoritmos de clasificación como SVC requieren que las entradas sean numéricas.\n",
        "* Entrenamiento del Modelo: Usamos el modelo SVC de sklearn para entrenar el clasificador con los datos codificados. El modelo se ajusta a los datos utilizando un kernel lineal.\n",
        "* Predicción: Creamos una nueva observación (un estudiante con \"Horas de Estudio\" Alta y \"Asistencia\" Mala) y usamos el modelo entrenado para predecir su resultado.\n",
        "\n",
        "\n"
      ],
      "metadata": {
        "id": "-xti60O4eQKU"
      }
    },
    {
      "cell_type": "markdown",
      "source": [
        "#### Descripción Paso a Paso:\n",
        "* Definir el Conjunto de Datos: Creamos un pequeño conjunto de datos donde cada fila corresponde a un estudiante con su número de Horas de Estudio (Alta o Baja), Asistencia (Buena o Mala), y el Resultado (Sí o No).\n"
      ],
      "metadata": {
        "id": "ilTp8jpGlaih"
      }
    },
    {
      "cell_type": "code",
      "source": [
        "from sklearn.svm import SVC\n",
        "from sklearn.preprocessing import LabelEncoder\n",
        "import pandas as pd\n",
        "\n",
        "data = {\n",
        "    \"Horas de Estudio\": [\"Alta\", \"Baja\", \"Baja\", \"Alta\", \"Alta\"],\n",
        "    \"Asistencia\": [\"Buena\", \"Buena\", \"Mala\", \"Mala\", \"Buena\"],\n",
        "    \"Resultado\": [\"Sí\", \"No\", \"No\", \"Sí\", \"Sí\"]\n",
        "}\n",
        "df = pd.DataFrame(data)\n"
      ],
      "metadata": {
        "id": "647tBxTjnSbY"
      },
      "execution_count": null,
      "outputs": []
    },
    {
      "cell_type": "markdown",
      "source": [
        "* Codificación de Datos Categóricos: Como el algoritmo SVC solo puede trabajar con valores numéricos, usamos LabelEncoder para convertir las características y etiquetas categóricas en valores numéricos. Cada valor único en las columnas \"Horas de Estudio\", \"Asistencia\" y \"Resultado\" es asignado a un número.\n"
      ],
      "metadata": {
        "id": "6ZhWMUnqnX8n"
      }
    },
    {
      "cell_type": "code",
      "source": [
        "\n",
        "\n",
        "# Codificadores separados para cada característica y la etiqueta\n",
        "encoder_estudio = LabelEncoder()\n",
        "encoder_asistencia = LabelEncoder()\n",
        "\n",
        "df[\"Horas de Estudio\"] = encoder_estudio.fit_transform(df[\"Horas de Estudio\"])\n",
        "df[\"Asistencia\"] = encoder_asistencia.fit_transform(df[\"Asistencia\"])\n",
        "\n",
        "# Codificar la etiqueta de resultado\n",
        "y_encoder = LabelEncoder()\n",
        "df[\"Resultado\"] = y_encoder.fit_transform(df[\"Resultado\"])\n"
      ],
      "metadata": {
        "id": "H7QXC3g_naln"
      },
      "execution_count": null,
      "outputs": []
    },
    {
      "cell_type": "markdown",
      "source": [
        "* Separación de Características y Etiqueta: Una vez que las características están codificadas numéricamente, las separamos en dos variables:\n",
        "  * X: Las características (Horas de Estudio y Asistencia).\n",
        "  * y: La etiqueta (Resultado)."
      ],
      "metadata": {
        "id": "AhswqAfincO_"
      }
    },
    {
      "cell_type": "code",
      "source": [
        "X = df[[\"Horas de Estudio\", \"Asistencia\"]]\n",
        "y = df[\"Resultado\"]\n"
      ],
      "metadata": {
        "id": "4BQ8Ajc1n4ef"
      },
      "execution_count": null,
      "outputs": []
    },
    {
      "cell_type": "markdown",
      "source": [
        "* Entrenamiento del Modelo SVC: Creamos un modelo SVC utilizando un kernel lineal y lo entrenamos con las características y etiquetas codificadas. El kernel lineal es una opción común para problemas de clasificación cuando los datos son linealmente separables.\n"
      ],
      "metadata": {
        "id": "VLdfDwEQn5Sf"
      }
    },
    {
      "cell_type": "code",
      "source": [
        "from sklearn.svm import SVC\n",
        "\n",
        "model = SVC(kernel='linear')\n",
        "model.fit(X, y)"
      ],
      "metadata": {
        "collapsed": true,
        "colab": {
          "base_uri": "https://localhost:8080/",
          "height": 80
        },
        "id": "3QaD4Bdcn-uP",
        "outputId": "0923cb22-5f52-4dc3-ee88-a970d1c57644"
      },
      "execution_count": null,
      "outputs": [
        {
          "output_type": "execute_result",
          "data": {
            "text/plain": [
              "SVC(kernel='linear')"
            ],
            "text/html": [
              "<style>#sk-container-id-2 {\n",
              "  /* Definition of color scheme common for light and dark mode */\n",
              "  --sklearn-color-text: black;\n",
              "  --sklearn-color-line: gray;\n",
              "  /* Definition of color scheme for unfitted estimators */\n",
              "  --sklearn-color-unfitted-level-0: #fff5e6;\n",
              "  --sklearn-color-unfitted-level-1: #f6e4d2;\n",
              "  --sklearn-color-unfitted-level-2: #ffe0b3;\n",
              "  --sklearn-color-unfitted-level-3: chocolate;\n",
              "  /* Definition of color scheme for fitted estimators */\n",
              "  --sklearn-color-fitted-level-0: #f0f8ff;\n",
              "  --sklearn-color-fitted-level-1: #d4ebff;\n",
              "  --sklearn-color-fitted-level-2: #b3dbfd;\n",
              "  --sklearn-color-fitted-level-3: cornflowerblue;\n",
              "\n",
              "  /* Specific color for light theme */\n",
              "  --sklearn-color-text-on-default-background: var(--sg-text-color, var(--theme-code-foreground, var(--jp-content-font-color1, black)));\n",
              "  --sklearn-color-background: var(--sg-background-color, var(--theme-background, var(--jp-layout-color0, white)));\n",
              "  --sklearn-color-border-box: var(--sg-text-color, var(--theme-code-foreground, var(--jp-content-font-color1, black)));\n",
              "  --sklearn-color-icon: #696969;\n",
              "\n",
              "  @media (prefers-color-scheme: dark) {\n",
              "    /* Redefinition of color scheme for dark theme */\n",
              "    --sklearn-color-text-on-default-background: var(--sg-text-color, var(--theme-code-foreground, var(--jp-content-font-color1, white)));\n",
              "    --sklearn-color-background: var(--sg-background-color, var(--theme-background, var(--jp-layout-color0, #111)));\n",
              "    --sklearn-color-border-box: var(--sg-text-color, var(--theme-code-foreground, var(--jp-content-font-color1, white)));\n",
              "    --sklearn-color-icon: #878787;\n",
              "  }\n",
              "}\n",
              "\n",
              "#sk-container-id-2 {\n",
              "  color: var(--sklearn-color-text);\n",
              "}\n",
              "\n",
              "#sk-container-id-2 pre {\n",
              "  padding: 0;\n",
              "}\n",
              "\n",
              "#sk-container-id-2 input.sk-hidden--visually {\n",
              "  border: 0;\n",
              "  clip: rect(1px 1px 1px 1px);\n",
              "  clip: rect(1px, 1px, 1px, 1px);\n",
              "  height: 1px;\n",
              "  margin: -1px;\n",
              "  overflow: hidden;\n",
              "  padding: 0;\n",
              "  position: absolute;\n",
              "  width: 1px;\n",
              "}\n",
              "\n",
              "#sk-container-id-2 div.sk-dashed-wrapped {\n",
              "  border: 1px dashed var(--sklearn-color-line);\n",
              "  margin: 0 0.4em 0.5em 0.4em;\n",
              "  box-sizing: border-box;\n",
              "  padding-bottom: 0.4em;\n",
              "  background-color: var(--sklearn-color-background);\n",
              "}\n",
              "\n",
              "#sk-container-id-2 div.sk-container {\n",
              "  /* jupyter's `normalize.less` sets `[hidden] { display: none; }`\n",
              "     but bootstrap.min.css set `[hidden] { display: none !important; }`\n",
              "     so we also need the `!important` here to be able to override the\n",
              "     default hidden behavior on the sphinx rendered scikit-learn.org.\n",
              "     See: https://github.com/scikit-learn/scikit-learn/issues/21755 */\n",
              "  display: inline-block !important;\n",
              "  position: relative;\n",
              "}\n",
              "\n",
              "#sk-container-id-2 div.sk-text-repr-fallback {\n",
              "  display: none;\n",
              "}\n",
              "\n",
              "div.sk-parallel-item,\n",
              "div.sk-serial,\n",
              "div.sk-item {\n",
              "  /* draw centered vertical line to link estimators */\n",
              "  background-image: linear-gradient(var(--sklearn-color-text-on-default-background), var(--sklearn-color-text-on-default-background));\n",
              "  background-size: 2px 100%;\n",
              "  background-repeat: no-repeat;\n",
              "  background-position: center center;\n",
              "}\n",
              "\n",
              "/* Parallel-specific style estimator block */\n",
              "\n",
              "#sk-container-id-2 div.sk-parallel-item::after {\n",
              "  content: \"\";\n",
              "  width: 100%;\n",
              "  border-bottom: 2px solid var(--sklearn-color-text-on-default-background);\n",
              "  flex-grow: 1;\n",
              "}\n",
              "\n",
              "#sk-container-id-2 div.sk-parallel {\n",
              "  display: flex;\n",
              "  align-items: stretch;\n",
              "  justify-content: center;\n",
              "  background-color: var(--sklearn-color-background);\n",
              "  position: relative;\n",
              "}\n",
              "\n",
              "#sk-container-id-2 div.sk-parallel-item {\n",
              "  display: flex;\n",
              "  flex-direction: column;\n",
              "}\n",
              "\n",
              "#sk-container-id-2 div.sk-parallel-item:first-child::after {\n",
              "  align-self: flex-end;\n",
              "  width: 50%;\n",
              "}\n",
              "\n",
              "#sk-container-id-2 div.sk-parallel-item:last-child::after {\n",
              "  align-self: flex-start;\n",
              "  width: 50%;\n",
              "}\n",
              "\n",
              "#sk-container-id-2 div.sk-parallel-item:only-child::after {\n",
              "  width: 0;\n",
              "}\n",
              "\n",
              "/* Serial-specific style estimator block */\n",
              "\n",
              "#sk-container-id-2 div.sk-serial {\n",
              "  display: flex;\n",
              "  flex-direction: column;\n",
              "  align-items: center;\n",
              "  background-color: var(--sklearn-color-background);\n",
              "  padding-right: 1em;\n",
              "  padding-left: 1em;\n",
              "}\n",
              "\n",
              "\n",
              "/* Toggleable style: style used for estimator/Pipeline/ColumnTransformer box that is\n",
              "clickable and can be expanded/collapsed.\n",
              "- Pipeline and ColumnTransformer use this feature and define the default style\n",
              "- Estimators will overwrite some part of the style using the `sk-estimator` class\n",
              "*/\n",
              "\n",
              "/* Pipeline and ColumnTransformer style (default) */\n",
              "\n",
              "#sk-container-id-2 div.sk-toggleable {\n",
              "  /* Default theme specific background. It is overwritten whether we have a\n",
              "  specific estimator or a Pipeline/ColumnTransformer */\n",
              "  background-color: var(--sklearn-color-background);\n",
              "}\n",
              "\n",
              "/* Toggleable label */\n",
              "#sk-container-id-2 label.sk-toggleable__label {\n",
              "  cursor: pointer;\n",
              "  display: block;\n",
              "  width: 100%;\n",
              "  margin-bottom: 0;\n",
              "  padding: 0.5em;\n",
              "  box-sizing: border-box;\n",
              "  text-align: center;\n",
              "}\n",
              "\n",
              "#sk-container-id-2 label.sk-toggleable__label-arrow:before {\n",
              "  /* Arrow on the left of the label */\n",
              "  content: \"▸\";\n",
              "  float: left;\n",
              "  margin-right: 0.25em;\n",
              "  color: var(--sklearn-color-icon);\n",
              "}\n",
              "\n",
              "#sk-container-id-2 label.sk-toggleable__label-arrow:hover:before {\n",
              "  color: var(--sklearn-color-text);\n",
              "}\n",
              "\n",
              "/* Toggleable content - dropdown */\n",
              "\n",
              "#sk-container-id-2 div.sk-toggleable__content {\n",
              "  max-height: 0;\n",
              "  max-width: 0;\n",
              "  overflow: hidden;\n",
              "  text-align: left;\n",
              "  /* unfitted */\n",
              "  background-color: var(--sklearn-color-unfitted-level-0);\n",
              "}\n",
              "\n",
              "#sk-container-id-2 div.sk-toggleable__content.fitted {\n",
              "  /* fitted */\n",
              "  background-color: var(--sklearn-color-fitted-level-0);\n",
              "}\n",
              "\n",
              "#sk-container-id-2 div.sk-toggleable__content pre {\n",
              "  margin: 0.2em;\n",
              "  border-radius: 0.25em;\n",
              "  color: var(--sklearn-color-text);\n",
              "  /* unfitted */\n",
              "  background-color: var(--sklearn-color-unfitted-level-0);\n",
              "}\n",
              "\n",
              "#sk-container-id-2 div.sk-toggleable__content.fitted pre {\n",
              "  /* unfitted */\n",
              "  background-color: var(--sklearn-color-fitted-level-0);\n",
              "}\n",
              "\n",
              "#sk-container-id-2 input.sk-toggleable__control:checked~div.sk-toggleable__content {\n",
              "  /* Expand drop-down */\n",
              "  max-height: 200px;\n",
              "  max-width: 100%;\n",
              "  overflow: auto;\n",
              "}\n",
              "\n",
              "#sk-container-id-2 input.sk-toggleable__control:checked~label.sk-toggleable__label-arrow:before {\n",
              "  content: \"▾\";\n",
              "}\n",
              "\n",
              "/* Pipeline/ColumnTransformer-specific style */\n",
              "\n",
              "#sk-container-id-2 div.sk-label input.sk-toggleable__control:checked~label.sk-toggleable__label {\n",
              "  color: var(--sklearn-color-text);\n",
              "  background-color: var(--sklearn-color-unfitted-level-2);\n",
              "}\n",
              "\n",
              "#sk-container-id-2 div.sk-label.fitted input.sk-toggleable__control:checked~label.sk-toggleable__label {\n",
              "  background-color: var(--sklearn-color-fitted-level-2);\n",
              "}\n",
              "\n",
              "/* Estimator-specific style */\n",
              "\n",
              "/* Colorize estimator box */\n",
              "#sk-container-id-2 div.sk-estimator input.sk-toggleable__control:checked~label.sk-toggleable__label {\n",
              "  /* unfitted */\n",
              "  background-color: var(--sklearn-color-unfitted-level-2);\n",
              "}\n",
              "\n",
              "#sk-container-id-2 div.sk-estimator.fitted input.sk-toggleable__control:checked~label.sk-toggleable__label {\n",
              "  /* fitted */\n",
              "  background-color: var(--sklearn-color-fitted-level-2);\n",
              "}\n",
              "\n",
              "#sk-container-id-2 div.sk-label label.sk-toggleable__label,\n",
              "#sk-container-id-2 div.sk-label label {\n",
              "  /* The background is the default theme color */\n",
              "  color: var(--sklearn-color-text-on-default-background);\n",
              "}\n",
              "\n",
              "/* On hover, darken the color of the background */\n",
              "#sk-container-id-2 div.sk-label:hover label.sk-toggleable__label {\n",
              "  color: var(--sklearn-color-text);\n",
              "  background-color: var(--sklearn-color-unfitted-level-2);\n",
              "}\n",
              "\n",
              "/* Label box, darken color on hover, fitted */\n",
              "#sk-container-id-2 div.sk-label.fitted:hover label.sk-toggleable__label.fitted {\n",
              "  color: var(--sklearn-color-text);\n",
              "  background-color: var(--sklearn-color-fitted-level-2);\n",
              "}\n",
              "\n",
              "/* Estimator label */\n",
              "\n",
              "#sk-container-id-2 div.sk-label label {\n",
              "  font-family: monospace;\n",
              "  font-weight: bold;\n",
              "  display: inline-block;\n",
              "  line-height: 1.2em;\n",
              "}\n",
              "\n",
              "#sk-container-id-2 div.sk-label-container {\n",
              "  text-align: center;\n",
              "}\n",
              "\n",
              "/* Estimator-specific */\n",
              "#sk-container-id-2 div.sk-estimator {\n",
              "  font-family: monospace;\n",
              "  border: 1px dotted var(--sklearn-color-border-box);\n",
              "  border-radius: 0.25em;\n",
              "  box-sizing: border-box;\n",
              "  margin-bottom: 0.5em;\n",
              "  /* unfitted */\n",
              "  background-color: var(--sklearn-color-unfitted-level-0);\n",
              "}\n",
              "\n",
              "#sk-container-id-2 div.sk-estimator.fitted {\n",
              "  /* fitted */\n",
              "  background-color: var(--sklearn-color-fitted-level-0);\n",
              "}\n",
              "\n",
              "/* on hover */\n",
              "#sk-container-id-2 div.sk-estimator:hover {\n",
              "  /* unfitted */\n",
              "  background-color: var(--sklearn-color-unfitted-level-2);\n",
              "}\n",
              "\n",
              "#sk-container-id-2 div.sk-estimator.fitted:hover {\n",
              "  /* fitted */\n",
              "  background-color: var(--sklearn-color-fitted-level-2);\n",
              "}\n",
              "\n",
              "/* Specification for estimator info (e.g. \"i\" and \"?\") */\n",
              "\n",
              "/* Common style for \"i\" and \"?\" */\n",
              "\n",
              ".sk-estimator-doc-link,\n",
              "a:link.sk-estimator-doc-link,\n",
              "a:visited.sk-estimator-doc-link {\n",
              "  float: right;\n",
              "  font-size: smaller;\n",
              "  line-height: 1em;\n",
              "  font-family: monospace;\n",
              "  background-color: var(--sklearn-color-background);\n",
              "  border-radius: 1em;\n",
              "  height: 1em;\n",
              "  width: 1em;\n",
              "  text-decoration: none !important;\n",
              "  margin-left: 1ex;\n",
              "  /* unfitted */\n",
              "  border: var(--sklearn-color-unfitted-level-1) 1pt solid;\n",
              "  color: var(--sklearn-color-unfitted-level-1);\n",
              "}\n",
              "\n",
              ".sk-estimator-doc-link.fitted,\n",
              "a:link.sk-estimator-doc-link.fitted,\n",
              "a:visited.sk-estimator-doc-link.fitted {\n",
              "  /* fitted */\n",
              "  border: var(--sklearn-color-fitted-level-1) 1pt solid;\n",
              "  color: var(--sklearn-color-fitted-level-1);\n",
              "}\n",
              "\n",
              "/* On hover */\n",
              "div.sk-estimator:hover .sk-estimator-doc-link:hover,\n",
              ".sk-estimator-doc-link:hover,\n",
              "div.sk-label-container:hover .sk-estimator-doc-link:hover,\n",
              ".sk-estimator-doc-link:hover {\n",
              "  /* unfitted */\n",
              "  background-color: var(--sklearn-color-unfitted-level-3);\n",
              "  color: var(--sklearn-color-background);\n",
              "  text-decoration: none;\n",
              "}\n",
              "\n",
              "div.sk-estimator.fitted:hover .sk-estimator-doc-link.fitted:hover,\n",
              ".sk-estimator-doc-link.fitted:hover,\n",
              "div.sk-label-container:hover .sk-estimator-doc-link.fitted:hover,\n",
              ".sk-estimator-doc-link.fitted:hover {\n",
              "  /* fitted */\n",
              "  background-color: var(--sklearn-color-fitted-level-3);\n",
              "  color: var(--sklearn-color-background);\n",
              "  text-decoration: none;\n",
              "}\n",
              "\n",
              "/* Span, style for the box shown on hovering the info icon */\n",
              ".sk-estimator-doc-link span {\n",
              "  display: none;\n",
              "  z-index: 9999;\n",
              "  position: relative;\n",
              "  font-weight: normal;\n",
              "  right: .2ex;\n",
              "  padding: .5ex;\n",
              "  margin: .5ex;\n",
              "  width: min-content;\n",
              "  min-width: 20ex;\n",
              "  max-width: 50ex;\n",
              "  color: var(--sklearn-color-text);\n",
              "  box-shadow: 2pt 2pt 4pt #999;\n",
              "  /* unfitted */\n",
              "  background: var(--sklearn-color-unfitted-level-0);\n",
              "  border: .5pt solid var(--sklearn-color-unfitted-level-3);\n",
              "}\n",
              "\n",
              ".sk-estimator-doc-link.fitted span {\n",
              "  /* fitted */\n",
              "  background: var(--sklearn-color-fitted-level-0);\n",
              "  border: var(--sklearn-color-fitted-level-3);\n",
              "}\n",
              "\n",
              ".sk-estimator-doc-link:hover span {\n",
              "  display: block;\n",
              "}\n",
              "\n",
              "/* \"?\"-specific style due to the `<a>` HTML tag */\n",
              "\n",
              "#sk-container-id-2 a.estimator_doc_link {\n",
              "  float: right;\n",
              "  font-size: 1rem;\n",
              "  line-height: 1em;\n",
              "  font-family: monospace;\n",
              "  background-color: var(--sklearn-color-background);\n",
              "  border-radius: 1rem;\n",
              "  height: 1rem;\n",
              "  width: 1rem;\n",
              "  text-decoration: none;\n",
              "  /* unfitted */\n",
              "  color: var(--sklearn-color-unfitted-level-1);\n",
              "  border: var(--sklearn-color-unfitted-level-1) 1pt solid;\n",
              "}\n",
              "\n",
              "#sk-container-id-2 a.estimator_doc_link.fitted {\n",
              "  /* fitted */\n",
              "  border: var(--sklearn-color-fitted-level-1) 1pt solid;\n",
              "  color: var(--sklearn-color-fitted-level-1);\n",
              "}\n",
              "\n",
              "/* On hover */\n",
              "#sk-container-id-2 a.estimator_doc_link:hover {\n",
              "  /* unfitted */\n",
              "  background-color: var(--sklearn-color-unfitted-level-3);\n",
              "  color: var(--sklearn-color-background);\n",
              "  text-decoration: none;\n",
              "}\n",
              "\n",
              "#sk-container-id-2 a.estimator_doc_link.fitted:hover {\n",
              "  /* fitted */\n",
              "  background-color: var(--sklearn-color-fitted-level-3);\n",
              "}\n",
              "</style><div id=\"sk-container-id-2\" class=\"sk-top-container\"><div class=\"sk-text-repr-fallback\"><pre>SVC(kernel=&#x27;linear&#x27;)</pre><b>In a Jupyter environment, please rerun this cell to show the HTML representation or trust the notebook. <br />On GitHub, the HTML representation is unable to render, please try loading this page with nbviewer.org.</b></div><div class=\"sk-container\" hidden><div class=\"sk-item\"><div class=\"sk-estimator fitted sk-toggleable\"><input class=\"sk-toggleable__control sk-hidden--visually\" id=\"sk-estimator-id-2\" type=\"checkbox\" checked><label for=\"sk-estimator-id-2\" class=\"sk-toggleable__label fitted sk-toggleable__label-arrow fitted\">&nbsp;&nbsp;SVC<a class=\"sk-estimator-doc-link fitted\" rel=\"noreferrer\" target=\"_blank\" href=\"https://scikit-learn.org/1.5/modules/generated/sklearn.svm.SVC.html\">?<span>Documentation for SVC</span></a><span class=\"sk-estimator-doc-link fitted\">i<span>Fitted</span></span></label><div class=\"sk-toggleable__content fitted\"><pre>SVC(kernel=&#x27;linear&#x27;)</pre></div> </div></div></div></div>"
            ]
          },
          "metadata": {},
          "execution_count": 9
        }
      ]
    },
    {
      "cell_type": "markdown",
      "source": [
        "* Realización de la Predicción: Creamos una nueva observación con características de \"Horas de Estudio\" Alta y \"Asistencia\" Mala, las codificamos numéricamente y las usamos para hacer una predicción. El modelo predice si el resultado será \"Sí\" o \"No\"."
      ],
      "metadata": {
        "id": "WcvzngtNoCVf"
      }
    },
    {
      "cell_type": "code",
      "source": [
        "new_observation = pd.DataFrame({\n",
        "    \"Horas de Estudio\": [encoder_estudio.transform([\"Alta\"])[0]],  # Usar encoder_estudio\n",
        "    \"Asistencia\": [encoder_asistencia.transform([\"Mala\"])[0]]    # Usar encoder_asistencia\n",
        "})\n",
        "\n",
        "prediction = model.predict(new_observation)\n",
        "predicted_label = y_encoder.inverse_transform(prediction)\n",
        "print(\"Predicción:\", predicted_label[0])\n"
      ],
      "metadata": {
        "collapsed": true,
        "colab": {
          "base_uri": "https://localhost:8080/"
        },
        "id": "5pY43vB5oEQ_",
        "outputId": "a29509ad-a3c9-4954-b4fd-168b70294cc5"
      },
      "execution_count": null,
      "outputs": [
        {
          "output_type": "stream",
          "name": "stdout",
          "text": [
            "Predicción: Sí\n"
          ]
        }
      ]
    },
    {
      "cell_type": "markdown",
      "source": [
        "El resultado puede ser algo como:\n",
        "\n",
        "\"Predicción: Sí\"\n",
        "\n",
        "Esto significa que, según el modelo SVC entrenado, un estudiante con \"Horas de Estudio\" Alta y \"Asistencia\" Mala probablemente tendrá un resultado Aprobado.\n",
        "\n",
        "\n",
        "---\n",
        "\n",
        "## <font color=\"red\">9.5 Ejercicio problemas cardiacos\n",
        "\n",
        "En este ejercicio, vamos a trabajar con un conjunto de datos de pacientes donde intentamos predecir la presencia de problemas cardíacos utilizando las características de edad y colesterol. El objetivo es aplicar dos modelos de clasificación supervisada, Support vector Machine (SVC) , para resolver este problema y realizar una evaluación adecuada de los modelos.\n",
        "\n",
        "En el proceso, vamos a seguir los siguientes pasos para cada modelo:\n",
        "* Exploración y Análisis Exploratorio de Datos (EDA): Inspeccionar los datos para comprender su estructura, identificar valores faltantes y realizar un análisis preliminar.\n",
        "* Imputación de Valores Faltantes: Dado que el conjunto de datos contiene valores nulos en las columnas de características, necesitamos imputarlos.\n",
        "* Preprocesamiento: Incluye la numerización de variables categóricas (si las hay), la división de los datos en conjuntos de entrenamiento y prueba, y la normalización si es necesario.\n",
        "* Entrenamiento del Modelo: Usar los modelos Naive Bayes para entrenar el modelo de clasificación.\n",
        "* Evaluación: Evaluar el rendimiento del modelo utilizando métricas como la precisión (accuracy), la matriz de confusión, la curva ROC y el AUC.\n",
        "* Persistencia del Modelo: Guardar el modelo entrenado para uso futuro.\n",
        "* Predicciones con Nuevos Datos: Realizar predicciones con datos no vistos previamente.\n",
        "\n",
        "### <font color=\"blue\">9.5.1 Análisis Exploratorio de Datos (EDA)\n",
        "Primero, cargamos los datos y realizamos una inspección básica para entender su estructura. Observamos que algunas columnas contienen valores nulos, lo que requiere que realicemos una imputación de los valores faltantes.\n",
        "\n",
        "#### 1. Cargar los datos:\n",
        "\n",
        "\n"
      ],
      "metadata": {
        "id": "eeEn3UQyoG7m"
      }
    },
    {
      "cell_type": "code",
      "source": [
        "import pandas as pd\n",
        "\n",
        "# Cargar el conjunto de datos\n",
        "url = \"https://raw.githubusercontent.com/adiacla/bigdata/refs/heads/master/pacientes.csv\"\n",
        "df = pd.read_csv(url)\n",
        "\n",
        "# Mostrar las primeras filas para inspeccionar los datos\n",
        "print(df.head())\n"
      ],
      "metadata": {
        "colab": {
          "base_uri": "https://localhost:8080/"
        },
        "collapsed": true,
        "id": "kRFRB67Ko-Tv",
        "outputId": "012759be-1e61-48fa-f492-19bc5a54bc5a"
      },
      "execution_count": null,
      "outputs": [
        {
          "output_type": "stream",
          "name": "stdout",
          "text": [
            "   edad  colesterol  problema_cardiaco\n",
            "0  63.0       233.0                  1\n",
            "1   NaN       250.0                  0\n",
            "2  37.0       250.0                  0\n",
            "3  41.0       204.0                  0\n",
            "4  56.0       236.0                  1\n"
          ]
        }
      ]
    },
    {
      "cell_type": "markdown",
      "source": [
        "La salida de df.head() da una idea del formato y de las columnas: \"edad\", \"colesterol\" y \"problema_cardiaco\", donde \"problema_cardiaco\" es la variable objetivo (etiquetada).\n",
        "\n",
        "\n",
        "---\n",
        "\n",
        "### 2. Manejo de Datos Faltantes\n",
        "\n",
        "El conjunto de datos contiene valores nulos. Los valores nulos en \"edad\" y \"colesterol\" deben imputarse antes de entrenar los modelos. En este caso, usaremos la mediana de las columnas para la imputación, ya que es menos sensible a los valores atípicos.\n",
        "\n",
        "#### Imputación de Valores Faltantes:\n",
        "\n"
      ],
      "metadata": {
        "id": "xfrtgtNBpB8X"
      }
    },
    {
      "cell_type": "code",
      "source": [
        "#Ver la sumatoria de valores nulos\n",
        "df.isnull().sum()"
      ],
      "metadata": {
        "colab": {
          "base_uri": "https://localhost:8080/",
          "height": 178
        },
        "id": "9M0bwCV5DQFs",
        "outputId": "76dbf1bd-7f98-43df-b2f4-78183576025f"
      },
      "execution_count": null,
      "outputs": [
        {
          "output_type": "execute_result",
          "data": {
            "text/plain": [
              "edad                 2\n",
              "colesterol           2\n",
              "problema_cardiaco    0\n",
              "dtype: int64"
            ],
            "text/html": [
              "<div>\n",
              "<style scoped>\n",
              "    .dataframe tbody tr th:only-of-type {\n",
              "        vertical-align: middle;\n",
              "    }\n",
              "\n",
              "    .dataframe tbody tr th {\n",
              "        vertical-align: top;\n",
              "    }\n",
              "\n",
              "    .dataframe thead th {\n",
              "        text-align: right;\n",
              "    }\n",
              "</style>\n",
              "<table border=\"1\" class=\"dataframe\">\n",
              "  <thead>\n",
              "    <tr style=\"text-align: right;\">\n",
              "      <th></th>\n",
              "      <th>0</th>\n",
              "    </tr>\n",
              "  </thead>\n",
              "  <tbody>\n",
              "    <tr>\n",
              "      <th>edad</th>\n",
              "      <td>2</td>\n",
              "    </tr>\n",
              "    <tr>\n",
              "      <th>colesterol</th>\n",
              "      <td>2</td>\n",
              "    </tr>\n",
              "    <tr>\n",
              "      <th>problema_cardiaco</th>\n",
              "      <td>0</td>\n",
              "    </tr>\n",
              "  </tbody>\n",
              "</table>\n",
              "</div><br><label><b>dtype:</b> int64</label>"
            ]
          },
          "metadata": {},
          "execution_count": 12
        }
      ]
    },
    {
      "cell_type": "markdown",
      "source": [
        "Por indicaciones recibidas de los médicos que acompañan al proyecto, sugieren utilizar la mediana para imputar los datos faltantes."
      ],
      "metadata": {
        "id": "c0A5eyvtAS4W"
      }
    },
    {
      "cell_type": "code",
      "source": [
        "\n",
        "# Imputar los valores nulos con la mediana\n",
        "df['edad'] = df['edad'].fillna(df['edad'].median())\n",
        "df['colesterol'] = df['colesterol'].fillna(df['colesterol'].median())\n",
        "\n",
        "# Comprobar que ya no hay valores nulos\n",
        "print(df.isnull().sum())\n"
      ],
      "metadata": {
        "collapsed": true,
        "colab": {
          "base_uri": "https://localhost:8080/"
        },
        "id": "SzwLUvGmpMtH",
        "outputId": "ffafd62b-3d4c-40ec-d3ef-7a79fd45ead4"
      },
      "execution_count": null,
      "outputs": [
        {
          "output_type": "stream",
          "name": "stdout",
          "text": [
            "edad                 0\n",
            "colesterol           0\n",
            "problema_cardiaco    0\n",
            "dtype: int64\n"
          ]
        }
      ]
    },
    {
      "cell_type": "markdown",
      "source": [
        "### 3. Preprocesamiento de Datos\n",
        "Dado que tenemos valores numéricos en las columnas \"edad\" y \"colesterol\", no es necesario realizar codificación para las variables. Sin embargo, para algunos modelos, es importante normalizar los datos para asegurarnos de que las características estén en una escala similar.\n",
        "\n",
        "#### Normalización de los Datos:\n"
      ],
      "metadata": {
        "id": "ljTaljHDpN3O"
      }
    },
    {
      "cell_type": "code",
      "source": [
        "from sklearn.preprocessing import StandardScaler\n",
        "\n",
        "# Normalizar las características numéricas\n",
        "scaler = StandardScaler()\n",
        "df[['edad', 'colesterol']] = scaler.fit_transform(df[['edad', 'colesterol']])\n",
        "\n",
        "# Ver los primeros datos después de la normalización\n",
        "print(df.head())\n"
      ],
      "metadata": {
        "collapsed": true,
        "colab": {
          "base_uri": "https://localhost:8080/"
        },
        "id": "_6v8nR14pZdm",
        "outputId": "f8b38b75-e590-4484-f35f-02475c8d7253"
      },
      "execution_count": null,
      "outputs": [
        {
          "output_type": "stream",
          "name": "stdout",
          "text": [
            "       edad  colesterol  problema_cardiaco\n",
            "0  0.960918   -0.276136                  1\n",
            "1  0.076507    0.053328                  0\n",
            "2 -1.913416    0.053328                  0\n",
            "3 -1.471211   -0.838164                  0\n",
            "4  0.187059   -0.217996                  1\n"
          ]
        }
      ]
    },
    {
      "cell_type": "markdown",
      "source": [
        "### 4. División de Datos\n",
        "Dividimos el conjunto de datos en conjuntos de entrenamiento y prueba. Usaremos un 80% para el entrenamiento y un 20% para la prueba. Además, aplicaremos stratify para mantener la proporción de clases en el conjunto de entrenamiento y prueba.\n",
        "\n",
        "#### División de los Datos:\n"
      ],
      "metadata": {
        "id": "O1nkpNpFpb7-"
      }
    },
    {
      "cell_type": "code",
      "source": [
        "from sklearn.model_selection import train_test_split\n",
        "\n",
        "# Definir las características y la etiqueta\n",
        "X = df[['edad', 'colesterol']]\n",
        "y = df['problema_cardiaco']\n",
        "\n",
        "# Dividir en entrenamiento y prueba\n",
        "X_train, X_test, y_train, y_test = train_test_split(X, y, test_size=0.2, random_state=42, stratify=y)\n",
        "\n",
        "print(f\"Tamaño del conjunto de entrenamiento: {X_train.shape}\")\n",
        "print(f\"Tamaño del conjunto de prueba: {X_test.shape}\")\n"
      ],
      "metadata": {
        "collapsed": true,
        "colab": {
          "base_uri": "https://localhost:8080/"
        },
        "id": "7Rk1MuaapiUh",
        "outputId": "44b248fa-6dd9-40a6-d74c-ac86e5ff667e"
      },
      "execution_count": null,
      "outputs": [
        {
          "output_type": "stream",
          "name": "stdout",
          "text": [
            "Tamaño del conjunto de entrenamiento: (241, 2)\n",
            "Tamaño del conjunto de prueba: (61, 2)\n"
          ]
        }
      ]
    },
    {
      "cell_type": "markdown",
      "source": [
        "## <font color=\"red\">9.6 Soporte Vectorial (SVC) - Modelo de Clasificación\n",
        "**Descripción del Modelo SVC:**\n",
        "\n",
        "El Support Vector Machine (SVM) es un clasificador que busca un hiperplano de separación óptimo en un espacio multidimensional. SVC (Support Vector Classifier) es una variante de SVM para clasificación. SVC intenta maximizar el margen entre las clases mientras minimiza el error de clasificación.\n",
        "\n",
        "**Entrenamiento del Modelo SVC:**\n"
      ],
      "metadata": {
        "id": "HhRaheFxpkRx"
      }
    },
    {
      "cell_type": "code",
      "source": [
        "from sklearn.svm import SVC\n",
        "from sklearn.metrics import accuracy_score, confusion_matrix, roc_auc_score, roc_curve\n",
        "import matplotlib.pyplot as plt\n",
        "\n",
        "# Crear el modelo SVC\n",
        "svc_model = SVC(probability=True, random_state=42)\n",
        "\n",
        "# Entrenar el modelo\n",
        "svc_model.fit(X_train, y_train)\n",
        "\n",
        "# Realizar predicciones\n",
        "y_pred_svc = svc_model.predict(X_test)\n",
        "\n",
        "# Evaluar el modelo\n",
        "accuracy_svc = accuracy_score(y_test, y_pred_svc)\n",
        "print(\"Precisión SVC:\", accuracy_svc)\n",
        "\n"
      ],
      "metadata": {
        "colab": {
          "base_uri": "https://localhost:8080/"
        },
        "collapsed": true,
        "id": "V3bYUCTzpt7d",
        "outputId": "f8bdbb9e-8ca0-471e-a322-e5acdfed2229"
      },
      "execution_count": null,
      "outputs": [
        {
          "output_type": "stream",
          "name": "stdout",
          "text": [
            "Precisión SVC: 0.7540983606557377\n"
          ]
        }
      ]
    },
    {
      "cell_type": "code",
      "source": [
        "import seaborn as sns\n",
        "import matplotlib.pyplot as plt\n",
        "from sklearn.metrics import confusion_matrix\n",
        "\n",
        "# Calcular la matriz de confusión\n",
        "conf_matrix_svc = confusion_matrix(y_test, y_pred_svc)\n",
        "\n",
        "# Crear el heatmap\n",
        "plt.figure(figsize=(8, 6))\n",
        "sns.heatmap(conf_matrix_svc, annot=True, fmt='d', cmap='Blues', xticklabels=['No', 'Sí'], yticklabels=['No', 'Sí'])\n",
        "plt.xlabel('Predicción')\n",
        "plt.ylabel('Real')\n",
        "plt.title('Matriz de Confusión (SVC)')\n",
        "plt.show()\n"
      ],
      "metadata": {
        "colab": {
          "base_uri": "https://localhost:8080/",
          "height": 564
        },
        "id": "zA1iiGHYAl6_",
        "outputId": "76d21911-2c8b-4485-ae69-d9f1504bb81d"
      },
      "execution_count": null,
      "outputs": [
        {
          "output_type": "display_data",
          "data": {
            "text/plain": [
              "<Figure size 800x600 with 2 Axes>"
            ],
            "image/png": "[encoded data removed]"
          },
          "metadata": {}
        }
      ]
    },
    {
      "cell_type": "code",
      "source": [
        "# Calcular el AUC\n",
        "roc_auc_svc = roc_auc_score(y_test, svc_model.predict_proba(X_test)[:, 1])\n",
        "print(\"AUC SVC:\", roc_auc_svc)\n",
        "\n",
        "# Curva ROC\n",
        "fpr, tpr, thresholds = roc_curve(y_test, svc_model.predict_proba(X_test)[:, 1])\n",
        "plt.plot(fpr, tpr, color='blue')\n",
        "plt.plot([0, 1], [0, 1], color='gray', linestyle='--')\n",
        "plt.title('Curva ROC - SVC')\n",
        "plt.xlabel('Tasa de Falsos Positivos')\n",
        "plt.ylabel('Tasa de Verdaderos Positivos')\n",
        "plt.show()"
      ],
      "metadata": {
        "colab": {
          "base_uri": "https://localhost:8080/",
          "height": 489
        },
        "id": "unBxBtsnApMn",
        "outputId": "d3d0c2dd-5829-4af4-87f3-fd35faa6cb31"
      },
      "execution_count": null,
      "outputs": [
        {
          "output_type": "stream",
          "name": "stdout",
          "text": [
            "AUC SVC: 0.8811827956989248\n"
          ]
        },
        {
          "output_type": "display_data",
          "data": {
            "text/plain": [
              "<Figure size 640x480 with 1 Axes>"
            ],
            "image/png": "[encoded data removed]"
          },
          "metadata": {}
        }
      ]
    },
    {
      "cell_type": "markdown",
      "source": [
        "### Persistencia del Modelo\n",
        "Es importante guardar el modelo entrenado para usarlo en el futuro sin necesidad de reentrenarlo.\n",
        "\n",
        "Guardar el modelo con **joblib:**"
      ],
      "metadata": {
        "id": "P68CFummp-Pe"
      }
    },
    {
      "cell_type": "code",
      "source": [
        "import joblib\n",
        "\n",
        "# Guardar el modelo SVC\n",
        "joblib.dump(svc_model, 'svc_model.pkl')"
      ],
      "metadata": {
        "colab": {
          "base_uri": "https://localhost:8080/"
        },
        "id": "xeOYWgBTqE92",
        "outputId": "cd8ca11a-7ca6-4d0f-eea0-5da0b3e24d44"
      },
      "execution_count": null,
      "outputs": [
        {
          "output_type": "execute_result",
          "data": {
            "text/plain": [
              "['svc_model.pkl']"
            ]
          },
          "metadata": {},
          "execution_count": 20
        }
      ]
    },
    {
      "cell_type": "markdown",
      "source": [
        "### Cargar el modelo guardado:\n"
      ],
      "metadata": {
        "id": "dib0Sjt7qN5E"
      }
    },
    {
      "cell_type": "code",
      "source": [
        "# Cargar el modelo de SVM\n",
        "svc_model_loaded = joblib.load('svc_model.pkl')"
      ],
      "metadata": {
        "id": "CQWcK3KdqQzs"
      },
      "execution_count": null,
      "outputs": []
    }
  ]
}